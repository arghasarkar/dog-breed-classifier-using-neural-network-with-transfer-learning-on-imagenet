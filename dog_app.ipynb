{
 "cells": [
  {
   "cell_type": "markdown",
   "metadata": {},
   "source": [
    "# Artificial Intelligence Nanodegree\n",
    "\n",
    "## Convolutional Neural Networks\n",
    "\n",
    "## Project: Write an Algorithm for a Dog Identification App \n",
    "\n",
    "---\n",
    "\n",
    "In this notebook, some template code has already been provided for you, and you will need to implement additional functionality to successfully complete this project. You will not need to modify the included code beyond what is requested. Sections that begin with **'(IMPLEMENTATION)'** in the header indicate that the following block of code will require additional functionality which you must provide. Instructions will be provided for each section, and the specifics of the implementation are marked in the code block with a 'TODO' statement. Please be sure to read the instructions carefully! \n",
    "\n",
    "> **Note**: Once you have completed all of the code implementations, you need to finalize your work by exporting the iPython Notebook as an HTML document. Before exporting the notebook to html, all of the code cells need to have been run so that reviewers can see the final implementation and output. You can then export the notebook by using the menu above and navigating to  \\n\",\n",
    "    \"**File -> Download as -> HTML (.html)**. Include the finished document along with this notebook as your submission.\n",
    "\n",
    "In addition to implementing code, there will be questions that you must answer which relate to the project and your implementation. Each section where you will answer a question is preceded by a **'Question X'** header. Carefully read each question and provide thorough answers in the following text boxes that begin with **'Answer:'**. Your project submission will be evaluated based on your answers to each of the questions and the implementation you provide.\n",
    "\n",
    ">**Note:** Code and Markdown cells can be executed using the **Shift + Enter** keyboard shortcut.  Markdown cells can be edited by double-clicking the cell to enter edit mode.\n",
    "\n",
    "The rubric contains _optional_ \"Stand Out Suggestions\" for enhancing the project beyond the minimum requirements. If you decide to pursue the \"Stand Out Suggestions\", you should include the code in this IPython notebook.\n",
    "\n",
    "\n",
    "\n",
    "---\n",
    "### Why We're Here \n",
    "\n",
    "In this notebook, you will make the first steps towards developing an algorithm that could be used as part of a mobile or web app.  At the end of this project, your code will accept any user-supplied image as input.  If a dog is detected in the image, it will provide an estimate of the dog's breed.  If a human is detected, it will provide an estimate of the dog breed that is most resembling.  The image below displays potential sample output of your finished project (... but we expect that each student's algorithm will behave differently!). \n",
    "\n",
    "![Sample Dog Output](images/sample_dog_output.png)\n",
    "\n",
    "In this real-world setting, you will need to piece together a series of models to perform different tasks; for instance, the algorithm that detects humans in an image will be different from the CNN that infers dog breed.  There are many points of possible failure, and no perfect algorithm exists.  Your imperfect solution will nonetheless create a fun user experience!\n",
    "\n",
    "### The Road Ahead\n",
    "\n",
    "We break the notebook into separate steps.  Feel free to use the links below to navigate the notebook.\n",
    "\n",
    "* [Step 0](#step0): Import Datasets\n",
    "* [Step 1](#step1): Detect Humans\n",
    "* [Step 2](#step2): Detect Dogs\n",
    "* [Step 3](#step3): Create a CNN to Classify Dog Breeds (from Scratch)\n",
    "* [Step 4](#step4): Use a CNN to Classify Dog Breeds (using Transfer Learning)\n",
    "* [Step 5](#step5): Create a CNN to Classify Dog Breeds (using Transfer Learning)\n",
    "* [Step 6](#step6): Write your Algorithm\n",
    "* [Step 7](#step7): Test Your Algorithm\n",
    "\n",
    "---\n",
    "<a id='step0'></a>\n",
    "## Step 0: Import Datasets\n",
    "\n",
    "### Import Dog Dataset\n",
    "\n",
    "In the code cell below, we import a dataset of dog images.  We populate a few variables through the use of the `load_files` function from the scikit-learn library:\n",
    "- `train_files`, `valid_files`, `test_files` - numpy arrays containing file paths to images\n",
    "- `train_targets`, `valid_targets`, `test_targets` - numpy arrays containing onehot-encoded classification labels \n",
    "- `dog_names` - list of string-valued dog breed names for translating labels"
   ]
  },
  {
   "cell_type": "code",
   "execution_count": 3,
   "metadata": {},
   "outputs": [
    {
     "name": "stderr",
     "output_type": "stream",
     "text": [
      "Using TensorFlow backend.\n"
     ]
    },
    {
     "name": "stdout",
     "output_type": "stream",
     "text": [
      "There are 133 total dog categories.\n",
      "There are 8351 total dog images.\n",
      "\n",
      "There are 6680 training dog images.\n",
      "There are 835 validation dog images.\n",
      "There are 836 test dog images.\n"
     ]
    }
   ],
   "source": [
    "from sklearn.datasets import load_files       \n",
    "from keras.utils import np_utils\n",
    "import numpy as np\n",
    "from glob import glob\n",
    "\n",
    "num_classes = 133\n",
    "\n",
    "# define function to load train, test, and validation datasets\n",
    "def load_dataset(path):\n",
    "    data = load_files(path)\n",
    "    dog_files = np.array(data['filenames'])\n",
    "    # One hot encoding the targets\n",
    "    dog_targets = np_utils.to_categorical(np.array(data['target']), num_classes)\n",
    "    return dog_files, dog_targets\n",
    "\n",
    "# load train, test, and validation datasets\n",
    "train_files, train_targets = load_dataset('dogImages/train')\n",
    "valid_files, valid_targets = load_dataset('dogImages/valid')\n",
    "test_files, test_targets = load_dataset('dogImages/test')\n",
    "\n",
    "# load list of dog names\n",
    "dog_names = [item[20:-1] for item in sorted(glob(\"dogImages/train/*/\"))]\n",
    "\n",
    "# print statistics about the dataset\n",
    "print('There are %d total dog categories.' % len(dog_names))\n",
    "print('There are %s total dog images.\\n' % len(np.hstack([train_files, valid_files, test_files])))\n",
    "print('There are %d training dog images.' % len(train_files))\n",
    "print('There are %d validation dog images.' % len(valid_files))\n",
    "print('There are %d test dog images.'% len(test_files))"
   ]
  },
  {
   "cell_type": "markdown",
   "metadata": {},
   "source": [
    "### Import Human Dataset\n",
    "\n",
    "In the code cell below, we import a dataset of human images, where the file paths are stored in the numpy array `human_files`."
   ]
  },
  {
   "cell_type": "code",
   "execution_count": 4,
   "metadata": {},
   "outputs": [
    {
     "name": "stdout",
     "output_type": "stream",
     "text": [
      "There are 13233 total human images.\n"
     ]
    }
   ],
   "source": [
    "import random\n",
    "random.seed(8675309)\n",
    "\n",
    "# load filenames in shuffled human dataset\n",
    "human_files = np.array(glob(\"lfw/*/*\"))\n",
    "random.shuffle(human_files)\n",
    "\n",
    "# print statistics about the dataset\n",
    "print('There are %d total human images.' % len(human_files))"
   ]
  },
  {
   "cell_type": "markdown",
   "metadata": {},
   "source": [
    "---\n",
    "<a id='step1'></a>\n",
    "## Step 1: Detect Humans\n",
    "\n",
    "We use OpenCV's implementation of [Haar feature-based cascade classifiers](http://docs.opencv.org/trunk/d7/d8b/tutorial_py_face_detection.html) to detect human faces in images.  OpenCV provides many pre-trained face detectors, stored as XML files on [github](https://github.com/opencv/opencv/tree/master/data/haarcascades).  We have downloaded one of these detectors and stored it in the `haarcascades` directory.\n",
    "\n",
    "In the next code cell, we demonstrate how to use this detector to find human faces in a sample image."
   ]
  },
  {
   "cell_type": "code",
   "execution_count": 5,
   "metadata": {},
   "outputs": [
    {
     "name": "stdout",
     "output_type": "stream",
     "text": [
      "Number of faces detected: 3\n"
     ]
    },
    {
     "data": {
      "image/png": "[encoded data removed]",
      "text/plain": [
       "<matplotlib.figure.Figure at 0x7f7da41aea58>"
      ]
     },
     "metadata": {},
     "output_type": "display_data"
    }
   ],
   "source": [
    "import cv2                \n",
    "import matplotlib.pyplot as plt                        \n",
    "%matplotlib inline                               \n",
    "\n",
    "# extract pre-trained face detector\n",
    "face_cascade = cv2.CascadeClassifier('haarcascades/haarcascade_frontalface_alt.xml')\n",
    "face_side_cascade = cv2.CascadeClassifier('haarcascades/lbpcascade_profileface.xml')\n",
    "\n",
    "# load color (BGR) image\n",
    "img = cv2.imread(human_files[83])\n",
    "# convert BGR image to grayscale\n",
    "gray = cv2.cvtColor(img, cv2.COLOR_BGR2GRAY)\n",
    "\n",
    "# find faces in image\n",
    "faces = face_cascade.detectMultiScale(gray)\n",
    "\n",
    "# print number of faces detected in the image\n",
    "print('Number of faces detected:', len(faces))\n",
    "\n",
    "# get bounding box for each detected face\n",
    "for (x,y,w,h) in faces:\n",
    "    # add bounding box to color image\n",
    "    cv2.rectangle(img,(x,y),(x+w,y+h),(255,0,0),2)\n",
    "    \n",
    "# convert BGR image to RGB for plotting\n",
    "cv_rgb = cv2.cvtColor(img, cv2.COLOR_BGR2RGB)\n",
    "\n",
    "# display the image, along with bounding box\n",
    "plt.imshow(cv_rgb)\n",
    "plt.show()"
   ]
  },
  {
   "cell_type": "markdown",
   "metadata": {},
   "source": [
    "Before using any of the face detectors, it is standard procedure to convert the images to grayscale.  The `detectMultiScale` function executes the classifier stored in `face_cascade` and takes the grayscale image as a parameter.  \n",
    "\n",
    "In the above code, `faces` is a numpy array of detected faces, where each row corresponds to a detected face.  Each detected face is a 1D array with four entries that specifies the bounding box of the detected face.  The first two entries in the array (extracted in the above code as `x` and `y`) specify the horizontal and vertical positions of the top left corner of the bounding box.  The last two entries in the array (extracted here as `w` and `h`) specify the width and height of the box.\n",
    "\n",
    "### Write a Human Face Detector\n",
    "\n",
    "We can use this procedure to write a function that returns `True` if a human face is detected in an image and `False` otherwise.  This function, aptly named `face_detector`, takes a string-valued file path to an image as input and appears in the code block below."
   ]
  },
  {
   "cell_type": "code",
   "execution_count": 6,
   "metadata": {},
   "outputs": [],
   "source": [
    "# returns \"True\" if face is detected in image stored at img_path\n",
    "def face_detector(img_path):\n",
    "    img = cv2.imread(img_path)\n",
    "    gray = cv2.cvtColor(img, cv2.COLOR_BGR2GRAY)\n",
    "    faces = face_cascade.detectMultiScale(gray)\n",
    "    return len(faces) > 0\n",
    "\n",
    "def face_side_detector(img_path):\n",
    "    img = cv2.imread(img_path)\n",
    "    gray = cv2.cvtColor(img, cv2.COLOR_BGR2GRAY)\n",
    "    faces = face_side_cascade.detectMultiScale(gray)\n",
    "    return len(faces) > 0"
   ]
  },
  {
   "cell_type": "markdown",
   "metadata": {},
   "source": [
    "### (IMPLEMENTATION) Assess the Human Face Detector\n",
    "\n",
    "__Question 1:__ Use the code cell below to test the performance of the `face_detector` function.  \n",
    "- What percentage of the first 100 images in `human_files` have a detected human face?  \n",
    "- What percentage of the first 100 images in `dog_files` have a detected human face? \n",
    "\n",
    "Ideally, we would like 100% of human images with a detected face and 0% of dog images with a detected face.  You will see that our algorithm falls short of this goal, but still gives acceptable performance.  We extract the file paths for the first 100 images from each of the datasets and store them in the numpy arrays `human_files_short` and `dog_files_short`.\n",
    "\n",
    "__Answer:__ Human files: 98% \n",
    "Dog files: 11%"
   ]
  },
  {
   "cell_type": "code",
   "execution_count": 5,
   "metadata": {},
   "outputs": [
    {
     "name": "stdout",
     "output_type": "stream",
     "text": [
      "Percentage of human faces detected in human files: 98%\n",
      "Percentage of human faces detected in dog files : 11%\n"
     ]
    }
   ],
   "source": [
    "human_files_short = human_files[:100]\n",
    "dog_files_short = train_files[:100]\n",
    "# Do NOT modify the code above this line.\n",
    "\n",
    "human_face_in_human_file_count = 0\n",
    "human_face_in_dog_file_count = 0\n",
    "## TODO: Test the performance of the face_detector algorithm \n",
    "for human_face_file in human_files_short:   \n",
    "    if face_detector(human_face_file) :\n",
    "        human_face_in_human_file_count += 1\n",
    "\n",
    "print(\"Percentage of human faces detected in human files: {}%\".format(human_face_in_human_file_count))\n",
    "\n",
    "## on the images in human_files_short and dog_files_short.\n",
    "for dog_file in dog_files_short:\n",
    "    if (face_detector(dog_file)):\n",
    "        human_face_in_dog_file_count += 1\n",
    "\n",
    "print(\"Percentage of human faces detected in dog files : {}%\".format(human_face_in_dog_file_count))"
   ]
  },
  {
   "cell_type": "markdown",
   "metadata": {},
   "source": [
    "__Question 2:__ This algorithmic choice necessitates that we communicate to the user that we accept human images only when they provide a clear view of a face (otherwise, we risk having unneccessarily frustrated users!). In your opinion, is this a reasonable expectation to pose on the user? If not, can you think of a way to detect humans in images that does not necessitate an image with a clearly presented face?\n",
    "\n",
    "__Answer:__\n",
    "\n",
    "We suggest the face detector from OpenCV as a potential way to detect human images in your algorithm, but you are free to explore other approaches, especially approaches that make use of deep learning :).  Please use the code cell below to design and test your own face detection algorithm.  If you decide to pursue this _optional_ task, report performance on each of the datasets."
   ]
  },
  {
   "cell_type": "code",
   "execution_count": 6,
   "metadata": {},
   "outputs": [],
   "source": [
    "## (Optional) TODO: Report the performance of another  \n",
    "## face detection algorithm on the LFW dataset\n",
    "### Feel free to use as many code cells as needed."
   ]
  },
  {
   "cell_type": "markdown",
   "metadata": {},
   "source": [
    "---\n",
    "<a id='step2'></a>\n",
    "## Step 2: Detect Dogs\n",
    "\n",
    "In this section, we use a pre-trained [ResNet-50](http://ethereon.github.io/netscope/#/gist/db945b393d40bfa26006) model to detect dogs in images.  Our first line of code downloads the ResNet-50 model, along with weights that have been trained on [ImageNet](http://www.image-net.org/), a very large, very popular dataset used for image classification and other vision tasks.  ImageNet contains over 10 million URLs, each linking to an image containing an object from one of [1000 categories](https://gist.github.com/yrevar/942d3a0ac09ec9e5eb3a).  Given an image, this pre-trained ResNet-50 model returns a prediction (derived from the available categories in ImageNet) for the object that is contained in the image."
   ]
  },
  {
   "cell_type": "code",
   "execution_count": 7,
   "metadata": {},
   "outputs": [],
   "source": [
    "from keras.applications.resnet50 import ResNet50\n",
    "\n",
    "# define ResNet50 model\n",
    "ResNet50_model = ResNet50(weights='imagenet')"
   ]
  },
  {
   "cell_type": "markdown",
   "metadata": {},
   "source": [
    "### Pre-process the Data\n",
    "\n",
    "When using TensorFlow as backend, Keras CNNs require a 4D array (which we'll also refer to as a 4D tensor) as input, with shape\n",
    "\n",
    "$$\n",
    "(\\text{nb_samples}, \\text{rows}, \\text{columns}, \\text{channels}),\n",
    "$$\n",
    "\n",
    "where `nb_samples` corresponds to the total number of images (or samples), and `rows`, `columns`, and `channels` correspond to the number of rows, columns, and channels for each image, respectively.  \n",
    "\n",
    "The `path_to_tensor` function below takes a string-valued file path to a color image as input and returns a 4D tensor suitable for supplying to a Keras CNN.  The function first loads the image and resizes it to a square image that is $224 \\times 224$ pixels.  Next, the image is converted to an array, which is then resized to a 4D tensor.  In this case, since we are working with color images, each image has three channels.  Likewise, since we are processing a single image (or sample), the returned tensor will always have shape\n",
    "\n",
    "$$\n",
    "(1, 224, 224, 3).\n",
    "$$\n",
    "\n",
    "The `paths_to_tensor` function takes a numpy array of string-valued image paths as input and returns a 4D tensor with shape \n",
    "\n",
    "$$\n",
    "(\\text{nb_samples}, 224, 224, 3).\n",
    "$$\n",
    "\n",
    "Here, `nb_samples` is the number of samples, or number of images, in the supplied array of image paths.  It is best to think of `nb_samples` as the number of 3D tensors (where each 3D tensor corresponds to a different image) in your dataset!"
   ]
  },
  {
   "cell_type": "code",
   "execution_count": 8,
   "metadata": {},
   "outputs": [],
   "source": [
    "from keras.preprocessing import image                  \n",
    "from tqdm import tqdm\n",
    "\n",
    "def path_to_tensor(img_path):\n",
    "    # loads RGB image as PIL.Image.Image type\n",
    "    img = image.load_img(img_path, target_size=(224, 224))\n",
    "    # convert PIL.Image.Image type to 3D tensor with shape (224, 224, 3)\n",
    "    x = image.img_to_array(img)\n",
    "    # convert 3D tensor to 4D tensor with shape (1, 224, 224, 3) and return 4D tensor\n",
    "    return np.expand_dims(x, axis=0)\n",
    "\n",
    "def paths_to_tensor(img_paths):\n",
    "    list_of_tensors = [path_to_tensor(img_path) for img_path in tqdm(img_paths)]\n",
    "    return np.vstack(list_of_tensors)"
   ]
  },
  {
   "cell_type": "markdown",
   "metadata": {},
   "source": [
    "### Making Predictions with ResNet-50\n",
    "\n",
    "Getting the 4D tensor ready for ResNet-50, and for any other pre-trained model in Keras, requires some additional processing.  First, the RGB image is converted to BGR by reordering the channels.  All pre-trained models have the additional normalization step that the mean pixel (expressed in RGB as $[103.939, 116.779, 123.68]$ and calculated from all pixels in all images in ImageNet) must be subtracted from every pixel in each image.  This is implemented in the imported function `preprocess_input`.  If you're curious, you can check the code for `preprocess_input` [here](https://github.com/fchollet/keras/blob/master/keras/applications/imagenet_utils.py).\n",
    "\n",
    "Now that we have a way to format our image for supplying to ResNet-50, we are now ready to use the model to extract the predictions.  This is accomplished with the `predict` method, which returns an array whose $i$-th entry is the model's predicted probability that the image belongs to the $i$-th ImageNet category.  This is implemented in the `ResNet50_predict_labels` function below.\n",
    "\n",
    "By taking the argmax of the predicted probability vector, we obtain an integer corresponding to the model's predicted object class, which we can identify with an object category through the use of this [dictionary](https://gist.github.com/yrevar/942d3a0ac09ec9e5eb3a). "
   ]
  },
  {
   "cell_type": "code",
   "execution_count": 9,
   "metadata": {},
   "outputs": [],
   "source": [
    "from keras.applications.resnet50 import preprocess_input, decode_predictions\n",
    "\n",
    "def ResNet50_predict_labels(img_path):\n",
    "    # returns prediction vector for image located at img_path\n",
    "    img = preprocess_input(path_to_tensor(img_path))\n",
    "    return np.argmax(ResNet50_model.predict(img))"
   ]
  },
  {
   "cell_type": "markdown",
   "metadata": {},
   "source": [
    "### Write a Dog Detector\n",
    "\n",
    "While looking at the [dictionary](https://gist.github.com/yrevar/942d3a0ac09ec9e5eb3a), you will notice that the categories corresponding to dogs appear in an uninterrupted sequence and correspond to dictionary keys 151-268, inclusive, to include all categories from `'Chihuahua'` to `'Mexican hairless'`.  Thus, in order to check to see if an image is predicted to contain a dog by the pre-trained ResNet-50 model, we need only check if the `ResNet50_predict_labels` function above returns a value between 151 and 268 (inclusive).\n",
    "\n",
    "We use these ideas to complete the `dog_detector` function below, which returns `True` if a dog is detected in an image (and `False` if not)."
   ]
  },
  {
   "cell_type": "code",
   "execution_count": 10,
   "metadata": {},
   "outputs": [],
   "source": [
    "### returns \"True\" if a dog is detected in the image stored at img_path\n",
    "def dog_detector(img_path):\n",
    "    prediction = ResNet50_predict_labels(img_path)\n",
    "    return ((prediction <= 268) & (prediction >= 151)) "
   ]
  },
  {
   "cell_type": "markdown",
   "metadata": {},
   "source": [
    "### (IMPLEMENTATION) Assess the Dog Detector\n",
    "\n",
    "__Question 3:__ Use the code cell below to test the performance of your `dog_detector` function.  \n",
    "- What percentage of the images in `human_files_short` have a detected dog?  \n",
    "- What percentage of the images in `dog_files_short` have a detected dog?\n",
    "\n",
    "__Answer:__ 2% of `human_files_short` have dogs detected in them.\n",
    "100% of `dog_files_short` have dogs detected in them."
   ]
  },
  {
   "cell_type": "code",
   "execution_count": 11,
   "metadata": {},
   "outputs": [
    {
     "ename": "NameError",
     "evalue": "name 'human_files_short' is not defined",
     "output_type": "error",
     "traceback": [
      "\u001b[0;31m---------------------------------------------------------------------------\u001b[0m",
      "\u001b[0;31mNameError\u001b[0m                                 Traceback (most recent call last)",
      "\u001b[0;32m<ipython-input-11-c215cc5574f1>\u001b[0m in \u001b[0;36m<module>\u001b[0;34m()\u001b[0m\n\u001b[1;32m      4\u001b[0m \u001b[0mdog_in_dog_img_count\u001b[0m \u001b[0;34m=\u001b[0m \u001b[0;36m0\u001b[0m\u001b[0;34m\u001b[0m\u001b[0m\n\u001b[1;32m      5\u001b[0m \u001b[0;34m\u001b[0m\u001b[0m\n\u001b[0;32m----> 6\u001b[0;31m \u001b[0;32mfor\u001b[0m \u001b[0mhuman_file\u001b[0m \u001b[0;32min\u001b[0m \u001b[0mhuman_files_short\u001b[0m\u001b[0;34m:\u001b[0m\u001b[0;34m\u001b[0m\u001b[0m\n\u001b[0m\u001b[1;32m      7\u001b[0m     \u001b[0;32mif\u001b[0m \u001b[0mdog_detector\u001b[0m\u001b[0;34m(\u001b[0m\u001b[0mhuman_file\u001b[0m\u001b[0;34m)\u001b[0m\u001b[0;34m:\u001b[0m\u001b[0;34m\u001b[0m\u001b[0m\n\u001b[1;32m      8\u001b[0m         \u001b[0mdog_in_human_img_count\u001b[0m \u001b[0;34m+=\u001b[0m \u001b[0;36m1\u001b[0m\u001b[0;34m\u001b[0m\u001b[0m\n",
      "\u001b[0;31mNameError\u001b[0m: name 'human_files_short' is not defined"
     ]
    }
   ],
   "source": [
    "### TODO: Test the performance of the dog_detector function\n",
    "### on the images in human_files_short and dog_files_short.\n",
    "dog_in_human_img_count = 0\n",
    "dog_in_dog_img_count = 0\n",
    "\n",
    "for human_file in human_files_short:\n",
    "    if dog_detector(human_file):\n",
    "        dog_in_human_img_count += 1\n",
    "        \n",
    "print(\"Percent of human images where a dog has been detected: {}%\".format(dog_in_human_img_count))\n",
    "        \n",
    "for dog_file in dog_files_short:\n",
    "    if dog_detector(dog_file):\n",
    "        dog_in_dog_img_count += 1\n",
    "        \n",
    "print(\"Percentage of dog images where a dog has been detected: {}%\".format(dog_in_dog_img_count))"
   ]
  },
  {
   "cell_type": "markdown",
   "metadata": {},
   "source": [
    "---\n",
    "<a id='step3'></a>\n",
    "## Step 3: Create a CNN to Classify Dog Breeds (from Scratch)\n",
    "\n",
    "Now that we have functions for detecting humans and dogs in images, we need a way to predict breed from images.  In this step, you will create a CNN that classifies dog breeds.  You must create your CNN _from scratch_ (so, you can't use transfer learning _yet_!), and you must attain a test accuracy of at least 1%.  In Step 5 of this notebook, you will have the opportunity to use transfer learning to create a CNN that attains greatly improved accuracy.\n",
    "\n",
    "Be careful with adding too many trainable layers!  More parameters means longer training, which means you are more likely to need a GPU to accelerate the training process.  Thankfully, Keras provides a handy estimate of the time that each epoch is likely to take; you can extrapolate this estimate to figure out how long it will take for your algorithm to train. \n",
    "\n",
    "We mention that the task of assigning breed to dogs from images is considered exceptionally challenging.  To see why, consider that *even a human* would have great difficulty in distinguishing between a Brittany and a Welsh Springer Spaniel.  \n",
    "\n",
    "Brittany | Welsh Springer Spaniel\n",
    "- | - \n",
    "<img src=\"images/Brittany_02625.jpg\" width=\"100\"> | <img src=\"images/Welsh_springer_spaniel_08203.jpg\" width=\"200\">\n",
    "\n",
    "It is not difficult to find other dog breed pairs with minimal inter-class variation (for instance, Curly-Coated Retrievers and American Water Spaniels).  \n",
    "\n",
    "Curly-Coated Retriever | American Water Spaniel\n",
    "- | -\n",
    "<img src=\"images/Curly-coated_retriever_03896.jpg\" width=\"200\"> | <img src=\"images/American_water_spaniel_00648.jpg\" width=\"200\">\n",
    "\n",
    "\n",
    "Likewise, recall that labradors come in yellow, chocolate, and black.  Your vision-based algorithm will have to conquer this high intra-class variation to determine how to classify all of these different shades as the same breed.  \n",
    "\n",
    "Yellow Labrador | Chocolate Labrador | Black Labrador\n",
    "- | -\n",
    "<img src=\"images/Labrador_retriever_06457.jpg\" width=\"150\"> | <img src=\"images/Labrador_retriever_06455.jpg\" width=\"240\"> | <img src=\"images/Labrador_retriever_06449.jpg\" width=\"220\">\n",
    "\n",
    "We also mention that random chance presents an exceptionally low bar: setting aside the fact that the classes are slightly imabalanced, a random guess will provide a correct answer roughly 1 in 133 times, which corresponds to an accuracy of less than 1%.  \n",
    "\n",
    "Remember that the practice is far ahead of the theory in deep learning.  Experiment with many different architectures, and trust your intuition.  And, of course, have fun! \n",
    "\n",
    "### Pre-process the Data\n",
    "\n",
    "We rescale the images by dividing every pixel in every image by 255."
   ]
  },
  {
   "cell_type": "code",
   "execution_count": 12,
   "metadata": {},
   "outputs": [
    {
     "name": "stderr",
     "output_type": "stream",
     "text": [
      "100%|██████████| 6680/6680 [00:54<00:00, 123.30it/s]\n",
      "100%|██████████| 835/835 [00:06<00:00, 139.01it/s]\n",
      "100%|██████████| 836/836 [00:05<00:00, 169.12it/s]\n"
     ]
    }
   ],
   "source": [
    "from PIL import ImageFile                            \n",
    "ImageFile.LOAD_TRUNCATED_IMAGES = True                 \n",
    "\n",
    "# pre-process the data for Keras\n",
    "train_tensors = paths_to_tensor(train_files).astype('float32')/255\n",
    "valid_tensors = paths_to_tensor(valid_files).astype('float32')/255\n",
    "test_tensors = paths_to_tensor(test_files).astype('float32')/255"
   ]
  },
  {
   "cell_type": "markdown",
   "metadata": {},
   "source": [
    "### (IMPLEMENTATION) Model Architecture\n",
    "\n",
    "Create a CNN to classify dog breed.  At the end of your code cell block, summarize the layers of your model by executing the line:\n",
    "    \n",
    "        model.summary()\n",
    "\n",
    "We have imported some Python modules to get you started, but feel free to import as many modules as you need.  If you end up getting stuck, here's a hint that specifies a model that trains relatively fast on CPU and attains >1% test accuracy in 5 epochs:\n",
    "\n",
    "![Sample CNN](images/sample_cnn.png)\n",
    "           \n",
    "__Question 4:__ Outline the steps you took to get to your final CNN architecture and your reasoning at each step.  If you chose to use the hinted architecture above, describe why you think that CNN architecture should work well for the image classification task.\n",
    "\n",
    "__Answer:__ I have chosen a similar architecture to the sample shown. It works well because 3 layers are sufficient to allow the NN discover more complex patterns such as the eyes, ears and other abstract features. I have added a **relu** activation function after each of my convolutional layers. Additionally, to reduce over-fitting in the data, dropout layers have also been added with a increasing probability starting at 0.1, going upto 0.3. \n",
    "For the training purposes, I used 160 epochs. At this stage, the validation loss was improving but the accuracy was stable.\n",
    "This overall results in an accuracy rate of **10.8852%**.\n",
    "I have saved the weights for this using the filename `backup.weights.best.from_scratch.hdf5`."
   ]
  },
  {
   "cell_type": "code",
   "execution_count": 13,
   "metadata": {},
   "outputs": [
    {
     "name": "stdout",
     "output_type": "stream",
     "text": [
      "_________________________________________________________________\n",
      "Layer (type)                 Output Shape              Param #   \n",
      "=================================================================\n",
      "conv2d_1 (Conv2D)            (None, 224, 224, 16)      208       \n",
      "_________________________________________________________________\n",
      "activation_50 (Activation)   (None, 224, 224, 16)      0         \n",
      "_________________________________________________________________\n",
      "max_pooling2d_2 (MaxPooling2 (None, 112, 112, 16)      0         \n",
      "_________________________________________________________________\n",
      "dropout_1 (Dropout)          (None, 112, 112, 16)      0         \n",
      "_________________________________________________________________\n",
      "conv2d_2 (Conv2D)            (None, 112, 112, 32)      2080      \n",
      "_________________________________________________________________\n",
      "activation_51 (Activation)   (None, 112, 112, 32)      0         \n",
      "_________________________________________________________________\n",
      "max_pooling2d_3 (MaxPooling2 (None, 56, 56, 32)        0         \n",
      "_________________________________________________________________\n",
      "dropout_2 (Dropout)          (None, 56, 56, 32)        0         \n",
      "_________________________________________________________________\n",
      "conv2d_3 (Conv2D)            (None, 56, 56, 64)        8256      \n",
      "_________________________________________________________________\n",
      "activation_52 (Activation)   (None, 56, 56, 64)        0         \n",
      "_________________________________________________________________\n",
      "max_pooling2d_4 (MaxPooling2 (None, 14, 14, 64)        0         \n",
      "_________________________________________________________________\n",
      "global_average_pooling2d_1 ( (None, 64)                0         \n",
      "_________________________________________________________________\n",
      "dropout_3 (Dropout)          (None, 64)                0         \n",
      "_________________________________________________________________\n",
      "dense_1 (Dense)              (None, 133)               8645      \n",
      "_________________________________________________________________\n",
      "activation_53 (Activation)   (None, 133)               0         \n",
      "=================================================================\n",
      "Total params: 19,189.0\n",
      "Trainable params: 19,189.0\n",
      "Non-trainable params: 0.0\n",
      "_________________________________________________________________\n"
     ]
    }
   ],
   "source": [
    "from keras.layers import Conv2D, MaxPooling2D, GlobalAveragePooling2D\n",
    "from keras.layers import Dropout, Flatten, Dense\n",
    "from keras.layers import Activation\n",
    "from keras.models import Sequential\n",
    "\n",
    "model = Sequential()\n",
    "\n",
    "### TODO: Define your architecture.\n",
    "\n",
    "model.add(Conv2D(16, 2,padding='same', input_shape=train_tensors.shape[1:]))\n",
    "model.add(Activation('relu'))\n",
    "model.add(MaxPooling2D(pool_size=(2,2)))\n",
    "model.add(Dropout(0.1))\n",
    "\n",
    "model.add(Conv2D(32, 2, padding='same'))\n",
    "model.add(Activation('relu'))\n",
    "model.add(MaxPooling2D(pool_size=(2,2)))\n",
    "model.add(Dropout(0.2))\n",
    "\n",
    "model.add(Conv2D(64, 2, padding='same'))\n",
    "model.add(Activation('relu'))\n",
    "model.add(MaxPooling2D(pool_size=(4,4)))\n",
    "\n",
    "\n",
    "model.add(GlobalAveragePooling2D())\n",
    "model.add(Dropout(0.3))\n",
    "\n",
    "model.add(Dense(num_classes))\n",
    "model.add(Activation(\"softmax\"))\n",
    "\n",
    "model.summary()"
   ]
  },
  {
   "cell_type": "markdown",
   "metadata": {},
   "source": [
    "### Compile the Model"
   ]
  },
  {
   "cell_type": "code",
   "execution_count": 14,
   "metadata": {},
   "outputs": [],
   "source": [
    "model.compile(optimizer='rmsprop', loss='categorical_crossentropy', metrics=['accuracy'])"
   ]
  },
  {
   "cell_type": "markdown",
   "metadata": {},
   "source": [
    "### (IMPLEMENTATION) Train the Model\n",
    "\n",
    "Train your model in the code cell below.  Use model checkpointing to save the model that attains the best validation loss.\n",
    "\n",
    "You are welcome to [augment the training data](https://blog.keras.io/building-powerful-image-classification-models-using-very-little-data.html), but this is not a requirement. "
   ]
  },
  {
   "cell_type": "code",
   "execution_count": 15,
   "metadata": {},
   "outputs": [
    {
     "name": "stdout",
     "output_type": "stream",
     "text": [
      "Train on 6680 samples, validate on 835 samples\n",
      "Epoch 1/160\n",
      "6660/6680 [============================>.] - ETA: 0s - loss: 4.8844 - acc: 0.0092Epoch 00000: val_loss improved from inf to 4.87185, saving model to saved_models/weights.best.from_scratch.hdf5\n",
      "6680/6680 [==============================] - 24s - loss: 4.8844 - acc: 0.0091 - val_loss: 4.8719 - val_acc: 0.0108\n",
      "Epoch 2/160\n",
      "6660/6680 [============================>.] - ETA: 0s - loss: 4.8592 - acc: 0.0105Epoch 00001: val_loss improved from 4.87185 to 4.84379, saving model to saved_models/weights.best.from_scratch.hdf5\n",
      "6680/6680 [==============================] - 23s - loss: 4.8590 - acc: 0.0105 - val_loss: 4.8438 - val_acc: 0.0156\n",
      "Epoch 3/160\n",
      "6660/6680 [============================>.] - ETA: 0s - loss: 4.8208 - acc: 0.0180Epoch 00002: val_loss improved from 4.84379 to 4.81465, saving model to saved_models/weights.best.from_scratch.hdf5\n",
      "6680/6680 [==============================] - 23s - loss: 4.8207 - acc: 0.0181 - val_loss: 4.8146 - val_acc: 0.0192\n",
      "Epoch 4/160\n",
      "6660/6680 [============================>.] - ETA: 0s - loss: 4.7981 - acc: 0.0189Epoch 00003: val_loss improved from 4.81465 to 4.79893, saving model to saved_models/weights.best.from_scratch.hdf5\n",
      "6680/6680 [==============================] - 24s - loss: 4.7980 - acc: 0.0189 - val_loss: 4.7989 - val_acc: 0.0216\n",
      "Epoch 5/160\n",
      "6660/6680 [============================>.] - ETA: 0s - loss: 4.7803 - acc: 0.0212Epoch 00004: val_loss improved from 4.79893 to 4.78744, saving model to saved_models/weights.best.from_scratch.hdf5\n",
      "6680/6680 [==============================] - 23s - loss: 4.7802 - acc: 0.0211 - val_loss: 4.7874 - val_acc: 0.0251\n",
      "Epoch 6/160\n",
      "6660/6680 [============================>.] - ETA: 0s - loss: 4.7601 - acc: 0.0219Epoch 00005: val_loss improved from 4.78744 to 4.78184, saving model to saved_models/weights.best.from_scratch.hdf5\n",
      "6680/6680 [==============================] - 23s - loss: 4.7600 - acc: 0.0219 - val_loss: 4.7818 - val_acc: 0.0216\n",
      "Epoch 7/160\n",
      "6660/6680 [============================>.] - ETA: 0s - loss: 4.7415 - acc: 0.0201Epoch 00006: val_loss improved from 4.78184 to 4.75887, saving model to saved_models/weights.best.from_scratch.hdf5\n",
      "6680/6680 [==============================] - 23s - loss: 4.7417 - acc: 0.0201 - val_loss: 4.7589 - val_acc: 0.0251\n",
      "Epoch 8/160\n",
      "6660/6680 [============================>.] - ETA: 0s - loss: 4.7275 - acc: 0.0236Epoch 00007: val_loss improved from 4.75887 to 4.75056, saving model to saved_models/weights.best.from_scratch.hdf5\n",
      "6680/6680 [==============================] - 23s - loss: 4.7273 - acc: 0.0235 - val_loss: 4.7506 - val_acc: 0.0168\n",
      "Epoch 9/160\n",
      "6660/6680 [============================>.] - ETA: 0s - loss: 4.7118 - acc: 0.0251Epoch 00008: val_loss improved from 4.75056 to 4.73904, saving model to saved_models/weights.best.from_scratch.hdf5\n",
      "6680/6680 [==============================] - 23s - loss: 4.7121 - acc: 0.0250 - val_loss: 4.7390 - val_acc: 0.0263\n",
      "Epoch 10/160\n",
      "6660/6680 [============================>.] - ETA: 0s - loss: 4.6974 - acc: 0.0252Epoch 00009: val_loss improved from 4.73904 to 4.72139, saving model to saved_models/weights.best.from_scratch.hdf5\n",
      "6680/6680 [==============================] - 23s - loss: 4.6974 - acc: 0.0251 - val_loss: 4.7214 - val_acc: 0.0263\n",
      "Epoch 11/160\n",
      "6660/6680 [============================>.] - ETA: 0s - loss: 4.6815 - acc: 0.0257Epoch 00010: val_loss improved from 4.72139 to 4.70266, saving model to saved_models/weights.best.from_scratch.hdf5\n",
      "6680/6680 [==============================] - 23s - loss: 4.6812 - acc: 0.0256 - val_loss: 4.7027 - val_acc: 0.0204\n",
      "Epoch 12/160\n",
      "6660/6680 [============================>.] - ETA: 0s - loss: 4.6642 - acc: 0.0309- ETA: 1s - loss: Epoch 00011: val_loss improved from 4.70266 to 4.70126, saving model to saved_models/weights.best.from_scratch.hdf5\n",
      "6680/6680 [==============================] - 23s - loss: 4.6647 - acc: 0.0308 - val_loss: 4.7013 - val_acc: 0.0228\n",
      "Epoch 13/160\n",
      "6660/6680 [============================>.] - ETA: 0s - loss: 4.6496 - acc: 0.0326Epoch 00012: val_loss improved from 4.70126 to 4.68514, saving model to saved_models/weights.best.from_scratch.hdf5\n",
      "6680/6680 [==============================] - 23s - loss: 4.6504 - acc: 0.0325 - val_loss: 4.6851 - val_acc: 0.0240\n",
      "Epoch 14/160\n",
      "6660/6680 [============================>.] - ETA: 0s - loss: 4.6399 - acc: 0.0348Epoch 00013: val_loss improved from 4.68514 to 4.67094, saving model to saved_models/weights.best.from_scratch.hdf5\n",
      "6680/6680 [==============================] - 23s - loss: 4.6400 - acc: 0.0350 - val_loss: 4.6709 - val_acc: 0.0216\n",
      "Epoch 15/160\n",
      "6660/6680 [============================>.] - ETA: 0s - loss: 4.6243 - acc: 0.0348Epoch 00014: val_loss did not improve\n",
      "6680/6680 [==============================] - 23s - loss: 4.6252 - acc: 0.0349 - val_loss: 4.6751 - val_acc: 0.0299\n",
      "Epoch 16/160\n",
      "6660/6680 [============================>.] - ETA: 0s - loss: 4.6065 - acc: 0.0378Epoch 00015: val_loss improved from 4.67094 to 4.65108, saving model to saved_models/weights.best.from_scratch.hdf5\n",
      "6680/6680 [==============================] - 23s - loss: 4.6073 - acc: 0.0379 - val_loss: 4.6511 - val_acc: 0.0395\n",
      "Epoch 17/160\n",
      "6660/6680 [============================>.] - ETA: 0s - loss: 4.5917 - acc: 0.0396Epoch 00016: val_loss improved from 4.65108 to 4.62556, saving model to saved_models/weights.best.from_scratch.hdf5\n",
      "6680/6680 [==============================] - 23s - loss: 4.5918 - acc: 0.0397 - val_loss: 4.6256 - val_acc: 0.0287\n",
      "Epoch 18/160\n",
      "6660/6680 [============================>.] - ETA: 0s - loss: 4.5792 - acc: 0.0407Epoch 00017: val_loss improved from 4.62556 to 4.61244, saving model to saved_models/weights.best.from_scratch.hdf5\n",
      "6680/6680 [==============================] - 23s - loss: 4.5791 - acc: 0.0406 - val_loss: 4.6124 - val_acc: 0.0371\n",
      "Epoch 19/160\n",
      "6660/6680 [============================>.] - ETA: 0s - loss: 4.5591 - acc: 0.0461Epoch 00018: val_loss did not improve\n",
      "6680/6680 [==============================] - 23s - loss: 4.5591 - acc: 0.0461 - val_loss: 4.6143 - val_acc: 0.0323\n",
      "Epoch 20/160\n",
      "6660/6680 [============================>.] - ETA: 0s - loss: 4.5394 - acc: 0.0458Epoch 00019: val_loss improved from 4.61244 to 4.60181, saving model to saved_models/weights.best.from_scratch.hdf5\n",
      "6680/6680 [==============================] - 23s - loss: 4.5401 - acc: 0.0457 - val_loss: 4.6018 - val_acc: 0.0311\n",
      "Epoch 21/160\n",
      "6660/6680 [============================>.] - ETA: 0s - loss: 4.5290 - acc: 0.0464Epoch 00020: val_loss improved from 4.60181 to 4.56012, saving model to saved_models/weights.best.from_scratch.hdf5\n",
      "6680/6680 [==============================] - 23s - loss: 4.5286 - acc: 0.0466 - val_loss: 4.5601 - val_acc: 0.0371\n",
      "Epoch 22/160\n",
      "6660/6680 [============================>.] - ETA: 0s - loss: 4.5046 - acc: 0.0470Epoch 00021: val_loss did not improve\n",
      "6680/6680 [==============================] - 23s - loss: 4.5044 - acc: 0.0470 - val_loss: 4.5629 - val_acc: 0.0347\n",
      "Epoch 23/160\n",
      "6660/6680 [============================>.] - ETA: 0s - loss: 4.4852 - acc: 0.0514Epoch 00022: val_loss improved from 4.56012 to 4.53543, saving model to saved_models/weights.best.from_scratch.hdf5\n",
      "6680/6680 [==============================] - 23s - loss: 4.4850 - acc: 0.0513 - val_loss: 4.5354 - val_acc: 0.0395\n",
      "Epoch 24/160\n",
      "6660/6680 [============================>.] - ETA: 0s - loss: 4.4714 - acc: 0.0495Epoch 00023: val_loss improved from 4.53543 to 4.51277, saving model to saved_models/weights.best.from_scratch.hdf5\n",
      "6680/6680 [==============================] - 23s - loss: 4.4706 - acc: 0.0494 - val_loss: 4.5128 - val_acc: 0.0455\n",
      "Epoch 25/160\n",
      "6660/6680 [============================>.] - ETA: 0s - loss: 4.4565 - acc: 0.0514Epoch 00024: val_loss did not improve\n",
      "6680/6680 [==============================] - 23s - loss: 4.4568 - acc: 0.0513 - val_loss: 4.5189 - val_acc: 0.0443\n",
      "Epoch 26/160\n",
      "6660/6680 [============================>.] - ETA: 0s - loss: 4.4348 - acc: 0.0530Epoch 00025: val_loss did not improve\n",
      "6680/6680 [==============================] - 23s - loss: 4.4344 - acc: 0.0530 - val_loss: 4.5552 - val_acc: 0.0443\n",
      "Epoch 27/160\n",
      "6660/6680 [============================>.] - ETA: 0s - loss: 4.4179 - acc: 0.0578Epoch 00026: val_loss improved from 4.51277 to 4.48034, saving model to saved_models/weights.best.from_scratch.hdf5\n",
      "6680/6680 [==============================] - 23s - loss: 4.4187 - acc: 0.0578 - val_loss: 4.4803 - val_acc: 0.0407\n",
      "Epoch 28/160\n",
      "6660/6680 [============================>.] - ETA: 0s - loss: 4.4060 - acc: 0.0574Epoch 00027: val_loss improved from 4.48034 to 4.45515, saving model to saved_models/weights.best.from_scratch.hdf5\n",
      "6680/6680 [==============================] - 23s - loss: 4.4067 - acc: 0.0572 - val_loss: 4.4551 - val_acc: 0.0443\n",
      "Epoch 29/160\n",
      "6660/6680 [============================>.] - ETA: 0s - loss: 4.3938 - acc: 0.0566Epoch 00028: val_loss did not improve\n",
      "6680/6680 [==============================] - 23s - loss: 4.3945 - acc: 0.0567 - val_loss: 4.4555 - val_acc: 0.0515\n",
      "Epoch 30/160\n",
      "6660/6680 [============================>.] - ETA: 0s - loss: 4.3864 - acc: 0.0614Epoch 00029: val_loss did not improve\n",
      "6680/6680 [==============================] - 23s - loss: 4.3861 - acc: 0.0615 - val_loss: 4.5102 - val_acc: 0.0479\n",
      "Epoch 31/160\n",
      "6660/6680 [============================>.] - ETA: 0s - loss: 4.3709 - acc: 0.0595Epoch 00030: val_loss improved from 4.45515 to 4.45272, saving model to saved_models/weights.best.from_scratch.hdf5\n",
      "6680/6680 [==============================] - 23s - loss: 4.3703 - acc: 0.0593 - val_loss: 4.4527 - val_acc: 0.0527\n",
      "Epoch 32/160\n",
      "6660/6680 [============================>.] - ETA: 0s - loss: 4.3550 - acc: 0.0658Epoch 00031: val_loss improved from 4.45272 to 4.40695, saving model to saved_models/weights.best.from_scratch.hdf5\n",
      "6680/6680 [==============================] - 23s - loss: 4.3549 - acc: 0.0660 - val_loss: 4.4069 - val_acc: 0.0515\n",
      "Epoch 33/160\n",
      "6660/6680 [============================>.] - ETA: 0s - loss: 4.3409 - acc: 0.0632Epoch 00032: val_loss did not improve\n",
      "6680/6680 [==============================] - 23s - loss: 4.3406 - acc: 0.0630 - val_loss: 4.4079 - val_acc: 0.0623\n",
      "Epoch 34/160\n",
      "6660/6680 [============================>.] - ETA: 0s - loss: 4.3360 - acc: 0.0650Epoch 00033: val_loss did not improve\n",
      "6680/6680 [==============================] - 23s - loss: 4.3363 - acc: 0.0650 - val_loss: 4.4144 - val_acc: 0.0491\n",
      "Epoch 35/160\n",
      "6660/6680 [============================>.] - ETA: 0s - loss: 4.3192 - acc: 0.0659Epoch 00034: val_loss improved from 4.40695 to 4.39401, saving model to saved_models/weights.best.from_scratch.hdf5\n",
      "6680/6680 [==============================] - 23s - loss: 4.3200 - acc: 0.0657 - val_loss: 4.3940 - val_acc: 0.0611\n",
      "Epoch 36/160\n",
      "6660/6680 [============================>.] - ETA: 0s - loss: 4.3032 - acc: 0.0679Epoch 00035: val_loss improved from 4.39401 to 4.36048, saving model to saved_models/weights.best.from_scratch.hdf5\n",
      "6680/6680 [==============================] - 23s - loss: 4.3026 - acc: 0.0677 - val_loss: 4.3605 - val_acc: 0.0539\n",
      "Epoch 37/160\n",
      "6660/6680 [============================>.] - ETA: 0s - loss: 4.2891 - acc: 0.0707Epoch 00036: val_loss improved from 4.36048 to 4.33952, saving model to saved_models/weights.best.from_scratch.hdf5\n",
      "6680/6680 [==============================] - 23s - loss: 4.2883 - acc: 0.0708 - val_loss: 4.3395 - val_acc: 0.0635\n",
      "Epoch 38/160\n",
      "6660/6680 [============================>.] - ETA: 0s - loss: 4.2830 - acc: 0.0703Epoch 00037: val_loss did not improve\n",
      "6680/6680 [==============================] - 23s - loss: 4.2831 - acc: 0.0702 - val_loss: 4.3462 - val_acc: 0.0611\n",
      "Epoch 39/160\n",
      "6660/6680 [============================>.] - ETA: 0s - loss: 4.2641 - acc: 0.0737Epoch 00038: val_loss did not improve\n",
      "6680/6680 [==============================] - 23s - loss: 4.2645 - acc: 0.0737 - val_loss: 4.3716 - val_acc: 0.0539\n",
      "Epoch 40/160\n",
      "6660/6680 [============================>.] - ETA: 0s - loss: 4.2433 - acc: 0.0751Epoch 00039: val_loss improved from 4.33952 to 4.33261, saving model to saved_models/weights.best.from_scratch.hdf5\n",
      "6680/6680 [==============================] - 23s - loss: 4.2433 - acc: 0.0753 - val_loss: 4.3326 - val_acc: 0.0623\n",
      "Epoch 41/160\n",
      "6660/6680 [============================>.] - ETA: 0s - loss: 4.2510 - acc: 0.0742Epoch 00040: val_loss improved from 4.33261 to 4.30995, saving model to saved_models/weights.best.from_scratch.hdf5\n",
      "6680/6680 [==============================] - 23s - loss: 4.2499 - acc: 0.0741 - val_loss: 4.3100 - val_acc: 0.0683\n",
      "Epoch 42/160\n",
      "6660/6680 [============================>.] - ETA: 0s - loss: 4.2308 - acc: 0.0775Epoch 00041: val_loss did not improve\n",
      "6680/6680 [==============================] - 23s - loss: 4.2311 - acc: 0.0775 - val_loss: 4.3414 - val_acc: 0.0635\n",
      "Epoch 43/160\n",
      "6660/6680 [============================>.] - ETA: 0s - loss: 4.2239 - acc: 0.0749Epoch 00042: val_loss improved from 4.30995 to 4.30178, saving model to saved_models/weights.best.from_scratch.hdf5\n",
      "6680/6680 [==============================] - 23s - loss: 4.2230 - acc: 0.0747 - val_loss: 4.3018 - val_acc: 0.0731\n",
      "Epoch 44/160\n",
      "6660/6680 [============================>.] - ETA: 0s - loss: 4.2130 - acc: 0.0802Epoch 00043: val_loss did not improve\n",
      "6680/6680 [==============================] - 23s - loss: 4.2134 - acc: 0.0801 - val_loss: 4.3470 - val_acc: 0.0671\n",
      "Epoch 45/160\n",
      "6660/6680 [============================>.] - ETA: 0s - loss: 4.1996 - acc: 0.0809Epoch 00044: val_loss improved from 4.30178 to 4.27985, saving model to saved_models/weights.best.from_scratch.hdf5\n",
      "6680/6680 [==============================] - 23s - loss: 4.1997 - acc: 0.0807 - val_loss: 4.2799 - val_acc: 0.0695\n",
      "Epoch 46/160\n",
      "6660/6680 [============================>.] - ETA: 0s - loss: 4.1857 - acc: 0.0824Epoch 00045: val_loss did not improve\n",
      "6680/6680 [==============================] - 23s - loss: 4.1859 - acc: 0.0825 - val_loss: 4.3073 - val_acc: 0.0707\n",
      "Epoch 47/160\n",
      "6660/6680 [============================>.] - ETA: 0s - loss: 4.1777 - acc: 0.0854Epoch 00046: val_loss improved from 4.27985 to 4.25361, saving model to saved_models/weights.best.from_scratch.hdf5\n",
      "6680/6680 [==============================] - 23s - loss: 4.1767 - acc: 0.0855 - val_loss: 4.2536 - val_acc: 0.0743\n",
      "Epoch 48/160\n",
      "6660/6680 [============================>.] - ETA: 0s - loss: 4.1667 - acc: 0.0821Epoch 00047: val_loss did not improve\n",
      "6680/6680 [==============================] - 23s - loss: 4.1661 - acc: 0.0822 - val_loss: 4.2588 - val_acc: 0.0778\n",
      "Epoch 49/160\n",
      "6660/6680 [============================>.] - ETA: 0s - loss: 4.1506 - acc: 0.0833Epoch 00048: val_loss improved from 4.25361 to 4.25223, saving model to saved_models/weights.best.from_scratch.hdf5\n",
      "6680/6680 [==============================] - 23s - loss: 4.1502 - acc: 0.0835 - val_loss: 4.2522 - val_acc: 0.0623\n",
      "Epoch 50/160\n",
      "6660/6680 [============================>.] - ETA: 0s - loss: 4.1609 - acc: 0.0829Epoch 00049: val_loss did not improve\n",
      "6680/6680 [==============================] - 23s - loss: 4.1613 - acc: 0.0828 - val_loss: 4.2923 - val_acc: 0.0743\n",
      "Epoch 51/160\n",
      "6660/6680 [============================>.] - ETA: 0s - loss: 4.1477 - acc: 0.0797Epoch 00050: val_loss improved from 4.25223 to 4.23142, saving model to saved_models/weights.best.from_scratch.hdf5\n",
      "6680/6680 [==============================] - 23s - loss: 4.1468 - acc: 0.0798 - val_loss: 4.2314 - val_acc: 0.0743\n",
      "Epoch 52/160\n",
      "6660/6680 [============================>.] - ETA: 0s - loss: 4.1373 - acc: 0.0868Epoch 00051: val_loss improved from 4.23142 to 4.22442, saving model to saved_models/weights.best.from_scratch.hdf5\n",
      "6680/6680 [==============================] - 23s - loss: 4.1370 - acc: 0.0867 - val_loss: 4.2244 - val_acc: 0.0719\n",
      "Epoch 53/160\n",
      "6660/6680 [============================>.] - ETA: 0s - loss: 4.1329 - acc: 0.0880Epoch 00052: val_loss did not improve\n",
      "6680/6680 [==============================] - 23s - loss: 4.1325 - acc: 0.0880 - val_loss: 4.2668 - val_acc: 0.0766\n",
      "Epoch 54/160\n",
      "6660/6680 [============================>.] - ETA: 0s - loss: 4.1240 - acc: 0.0862Epoch 00053: val_loss improved from 4.22442 to 4.21000, saving model to saved_models/weights.best.from_scratch.hdf5\n",
      "6680/6680 [==============================] - 23s - loss: 4.1235 - acc: 0.0864 - val_loss: 4.2100 - val_acc: 0.0766\n",
      "Epoch 55/160\n"
     ]
    },
    {
     "name": "stdout",
     "output_type": "stream",
     "text": [
      "6660/6680 [============================>.] - ETA: 0s - loss: 4.1046 - acc: 0.0947Epoch 00054: val_loss did not improve\n",
      "6680/6680 [==============================] - 23s - loss: 4.1049 - acc: 0.0948 - val_loss: 4.2983 - val_acc: 0.0695\n",
      "Epoch 56/160\n",
      "6660/6680 [============================>.] - ETA: 0s - loss: 4.1159 - acc: 0.0884Epoch 00055: val_loss did not improve\n",
      "6680/6680 [==============================] - 23s - loss: 4.1151 - acc: 0.0888 - val_loss: 4.2424 - val_acc: 0.0790\n",
      "Epoch 57/160\n",
      "6660/6680 [============================>.] - ETA: 0s - loss: 4.1084 - acc: 0.0932Epoch 00056: val_loss did not improve\n",
      "6680/6680 [==============================] - 23s - loss: 4.1079 - acc: 0.0933 - val_loss: 4.2799 - val_acc: 0.0647\n",
      "Epoch 58/160\n",
      "6660/6680 [============================>.] - ETA: 0s - loss: 4.0976 - acc: 0.0928Epoch 00057: val_loss improved from 4.21000 to 4.17888, saving model to saved_models/weights.best.from_scratch.hdf5\n",
      "6680/6680 [==============================] - 23s - loss: 4.0976 - acc: 0.0928 - val_loss: 4.1789 - val_acc: 0.0946\n",
      "Epoch 59/160\n",
      "6660/6680 [============================>.] - ETA: 0s - loss: 4.0903 - acc: 0.0953Epoch 00058: val_loss did not improve\n",
      "6680/6680 [==============================] - 23s - loss: 4.0904 - acc: 0.0951 - val_loss: 4.1847 - val_acc: 0.0826\n",
      "Epoch 60/160\n",
      "6660/6680 [============================>.] - ETA: 0s - loss: 4.0772 - acc: 0.0970Epoch 00059: val_loss improved from 4.17888 to 4.16984, saving model to saved_models/weights.best.from_scratch.hdf5\n",
      "6680/6680 [==============================] - 23s - loss: 4.0765 - acc: 0.0969 - val_loss: 4.1698 - val_acc: 0.0922\n",
      "Epoch 61/160\n",
      "6660/6680 [============================>.] - ETA: 0s - loss: 4.0776 - acc: 0.0926Epoch 00060: val_loss did not improve\n",
      "6680/6680 [==============================] - 23s - loss: 4.0776 - acc: 0.0925 - val_loss: 4.1858 - val_acc: 0.0838\n",
      "Epoch 62/160\n",
      "6660/6680 [============================>.] - ETA: 0s - loss: 4.0741 - acc: 0.0950Epoch 00061: val_loss did not improve\n",
      "6680/6680 [==============================] - 23s - loss: 4.0740 - acc: 0.0949 - val_loss: 4.1990 - val_acc: 0.0802\n",
      "Epoch 63/160\n",
      "6660/6680 [============================>.] - ETA: 0s - loss: 4.0574 - acc: 0.0968Epoch 00062: val_loss did not improve\n",
      "6680/6680 [==============================] - 23s - loss: 4.0581 - acc: 0.0970 - val_loss: 4.2933 - val_acc: 0.0719\n",
      "Epoch 64/160\n",
      "6660/6680 [============================>.] - ETA: 0s - loss: 4.0501 - acc: 0.0992Epoch 00063: val_loss improved from 4.16984 to 4.15794, saving model to saved_models/weights.best.from_scratch.hdf5\n",
      "6680/6680 [==============================] - 23s - loss: 4.0496 - acc: 0.0997 - val_loss: 4.1579 - val_acc: 0.0934\n",
      "Epoch 65/160\n",
      "6660/6680 [============================>.] - ETA: 0s - loss: 4.0460 - acc: 0.1023Epoch 00064: val_loss did not improve\n",
      "6680/6680 [==============================] - 23s - loss: 4.0474 - acc: 0.1021 - val_loss: 4.2848 - val_acc: 0.0671\n",
      "Epoch 66/160\n",
      "6660/6680 [============================>.] - ETA: 0s - loss: 4.0496 - acc: 0.1060Epoch 00065: val_loss did not improve\n",
      "6680/6680 [==============================] - 23s - loss: 4.0498 - acc: 0.1058 - val_loss: 4.1710 - val_acc: 0.0766\n",
      "Epoch 67/160\n",
      "6660/6680 [============================>.] - ETA: 0s - loss: 4.0295 - acc: 0.0976Epoch 00066: val_loss did not improve\n",
      "6680/6680 [==============================] - 23s - loss: 4.0294 - acc: 0.0975 - val_loss: 4.2065 - val_acc: 0.0743\n",
      "Epoch 68/160\n",
      "6660/6680 [============================>.] - ETA: 0s - loss: 4.0232 - acc: 0.1048Epoch 00067: val_loss did not improve\n",
      "6680/6680 [==============================] - 23s - loss: 4.0251 - acc: 0.1045 - val_loss: 4.1818 - val_acc: 0.0802\n",
      "Epoch 69/160\n",
      "6660/6680 [============================>.] - ETA: 0s - loss: 4.0223 - acc: 0.1077Epoch 00068: val_loss did not improve\n",
      "6680/6680 [==============================] - 23s - loss: 4.0219 - acc: 0.1079 - val_loss: 4.1773 - val_acc: 0.0982\n",
      "Epoch 70/160\n",
      "6660/6680 [============================>.] - ETA: 0s - loss: 4.0099 - acc: 0.1012Epoch 00069: val_loss did not improve\n",
      "6680/6680 [==============================] - 23s - loss: 4.0106 - acc: 0.1012 - val_loss: 4.1740 - val_acc: 0.0731\n",
      "Epoch 71/160\n",
      "6660/6680 [============================>.] - ETA: 0s - loss: 4.0072 - acc: 0.1057Epoch 00070: val_loss improved from 4.15794 to 4.14120, saving model to saved_models/weights.best.from_scratch.hdf5\n",
      "6680/6680 [==============================] - 23s - loss: 4.0067 - acc: 0.1057 - val_loss: 4.1412 - val_acc: 0.0946\n",
      "Epoch 72/160\n",
      "6660/6680 [============================>.] - ETA: 0s - loss: 4.0078 - acc: 0.1111Epoch 00071: val_loss improved from 4.14120 to 4.11489, saving model to saved_models/weights.best.from_scratch.hdf5\n",
      "6680/6680 [==============================] - 24s - loss: 4.0074 - acc: 0.1111 - val_loss: 4.1149 - val_acc: 0.0874\n",
      "Epoch 73/160\n",
      "6660/6680 [============================>.] - ETA: 0s - loss: 3.9972 - acc: 0.1029Epoch 00072: val_loss did not improve\n",
      "6680/6680 [==============================] - 23s - loss: 3.9977 - acc: 0.1028 - val_loss: 4.1646 - val_acc: 0.0790\n",
      "Epoch 74/160\n",
      "6660/6680 [============================>.] - ETA: 0s - loss: 3.9985 - acc: 0.1092Epoch 00073: val_loss did not improve\n",
      "6680/6680 [==============================] - 24s - loss: 3.9987 - acc: 0.1091 - val_loss: 4.1423 - val_acc: 0.1006\n",
      "Epoch 75/160\n",
      "6660/6680 [============================>.] - ETA: 0s - loss: 3.9860 - acc: 0.1054Epoch 00074: val_loss did not improve\n",
      "6680/6680 [==============================] - 23s - loss: 3.9863 - acc: 0.1052 - val_loss: 4.1393 - val_acc: 0.0874\n",
      "Epoch 76/160\n",
      "6660/6680 [============================>.] - ETA: 0s - loss: 3.9889 - acc: 0.1081Epoch 00075: val_loss did not improve\n",
      "6680/6680 [==============================] - 23s - loss: 3.9891 - acc: 0.1081 - val_loss: 4.1177 - val_acc: 0.0982\n",
      "Epoch 77/160\n",
      "6660/6680 [============================>.] - ETA: 0s - loss: 3.9794 - acc: 0.1101Epoch 00076: val_loss did not improve\n",
      "6680/6680 [==============================] - 23s - loss: 3.9798 - acc: 0.1100 - val_loss: 4.1418 - val_acc: 0.0826\n",
      "Epoch 78/160\n",
      "6660/6680 [============================>.] - ETA: 0s - loss: 3.9809 - acc: 0.1099Epoch 00077: val_loss did not improve\n",
      "6680/6680 [==============================] - 23s - loss: 3.9809 - acc: 0.1099 - val_loss: 4.1916 - val_acc: 0.0790\n",
      "Epoch 79/160\n",
      "6660/6680 [============================>.] - ETA: 0s - loss: 3.9821 - acc: 0.1117Epoch 00078: val_loss did not improve\n",
      "6680/6680 [==============================] - 23s - loss: 3.9828 - acc: 0.1114 - val_loss: 4.2915 - val_acc: 0.0695\n",
      "Epoch 80/160\n",
      "6660/6680 [============================>.] - ETA: 0s - loss: 3.9688 - acc: 0.1072Epoch 00079: val_loss improved from 4.11489 to 4.10451, saving model to saved_models/weights.best.from_scratch.hdf5\n",
      "6680/6680 [==============================] - 23s - loss: 3.9692 - acc: 0.1073 - val_loss: 4.1045 - val_acc: 0.0838\n",
      "Epoch 81/160\n",
      "6660/6680 [============================>.] - ETA: 0s - loss: 3.9510 - acc: 0.1132Epoch 00080: val_loss improved from 4.10451 to 4.09501, saving model to saved_models/weights.best.from_scratch.hdf5\n",
      "6680/6680 [==============================] - 23s - loss: 3.9503 - acc: 0.1133 - val_loss: 4.0950 - val_acc: 0.1042\n",
      "Epoch 82/160\n",
      "6660/6680 [============================>.] - ETA: 0s - loss: 3.9530 - acc: 0.1089Epoch 00081: val_loss did not improve\n",
      "6680/6680 [==============================] - 23s - loss: 3.9521 - acc: 0.1088 - val_loss: 4.1227 - val_acc: 0.0922\n",
      "Epoch 83/160\n",
      "6660/6680 [============================>.] - ETA: 0s - loss: 3.9394 - acc: 0.1161Epoch 00082: val_loss did not improve\n",
      "6680/6680 [==============================] - 23s - loss: 3.9404 - acc: 0.1162 - val_loss: 4.1302 - val_acc: 0.0874\n",
      "Epoch 84/160\n",
      "6660/6680 [============================>.] - ETA: 0s - loss: 3.9341 - acc: 0.1189Epoch 00083: val_loss did not improve\n",
      "6680/6680 [==============================] - 23s - loss: 3.9363 - acc: 0.1187 - val_loss: 4.1563 - val_acc: 0.0754\n",
      "Epoch 85/160\n",
      "6660/6680 [============================>.] - ETA: 0s - loss: 3.9312 - acc: 0.1216Epoch 00084: val_loss did not improve\n",
      "6680/6680 [==============================] - 23s - loss: 3.9317 - acc: 0.1217 - val_loss: 4.1168 - val_acc: 0.1006\n",
      "Epoch 86/160\n"
     ]
    },
    {
     "name": "stdout",
     "output_type": "stream",
     "text": [
      "6660/6680 [============================>.] - ETA: 0s - loss: 3.9461 - acc: 0.1117Epoch 00085: val_loss improved from 4.09501 to 4.09286, saving model to saved_models/weights.best.from_scratch.hdf5\n",
      "6680/6680 [==============================] - 23s - loss: 3.9457 - acc: 0.1118 - val_loss: 4.0929 - val_acc: 0.0946\n",
      "Epoch 87/160\n",
      "6660/6680 [============================>.] - ETA: 0s - loss: 3.9239 - acc: 0.1186Epoch 00086: val_loss did not improve\n",
      "6680/6680 [==============================] - 23s - loss: 3.9251 - acc: 0.1184 - val_loss: 4.1332 - val_acc: 0.0910\n",
      "Epoch 88/160\n",
      "6660/6680 [============================>.] - ETA: 0s - loss: 3.9220 - acc: 0.1177Epoch 00087: val_loss did not improve\n",
      "6680/6680 [==============================] - 23s - loss: 3.9215 - acc: 0.1186 - val_loss: 4.1284 - val_acc: 0.0874\n",
      "Epoch 89/160\n",
      "6660/6680 [============================>.] - ETA: 0s - loss: 3.9138 - acc: 0.1233Epoch 00088: val_loss did not improve\n",
      "6680/6680 [==============================] - 23s - loss: 3.9154 - acc: 0.1234 - val_loss: 4.1514 - val_acc: 0.0934\n",
      "Epoch 90/160\n",
      "6660/6680 [============================>.] - ETA: 0s - loss: 3.9115 - acc: 0.1215Epoch 00089: val_loss improved from 4.09286 to 4.08345, saving model to saved_models/weights.best.from_scratch.hdf5\n",
      "6680/6680 [==============================] - 23s - loss: 3.9124 - acc: 0.1211 - val_loss: 4.0835 - val_acc: 0.1006\n",
      "Epoch 91/160\n",
      "6660/6680 [============================>.] - ETA: 0s - loss: 3.9027 - acc: 0.1231Epoch 00090: val_loss did not improve\n",
      "6680/6680 [==============================] - 23s - loss: 3.9025 - acc: 0.1228 - val_loss: 4.1494 - val_acc: 0.0862\n",
      "Epoch 92/160\n",
      "6660/6680 [============================>.] - ETA: 0s - loss: 3.9163 - acc: 0.1180Epoch 00091: val_loss did not improve\n",
      "6680/6680 [==============================] - 23s - loss: 3.9155 - acc: 0.1181 - val_loss: 4.0913 - val_acc: 0.0778\n",
      "Epoch 93/160\n",
      "6660/6680 [============================>.] - ETA: 0s - loss: 3.9121 - acc: 0.1206Epoch 00092: val_loss improved from 4.08345 to 4.06367, saving model to saved_models/weights.best.from_scratch.hdf5\n",
      "6680/6680 [==============================] - 23s - loss: 3.9123 - acc: 0.1207 - val_loss: 4.0637 - val_acc: 0.0958\n",
      "Epoch 94/160\n",
      "6660/6680 [============================>.] - ETA: 0s - loss: 3.9053 - acc: 0.1234Epoch 00093: val_loss did not improve\n",
      "6680/6680 [==============================] - 23s - loss: 3.9052 - acc: 0.1232 - val_loss: 4.0728 - val_acc: 0.0898\n",
      "Epoch 95/160\n",
      "6660/6680 [============================>.] - ETA: 0s - loss: 3.9019 - acc: 0.1270Epoch 00094: val_loss did not improve\n",
      "6680/6680 [==============================] - 23s - loss: 3.9027 - acc: 0.1269 - val_loss: 4.1056 - val_acc: 0.1018\n",
      "Epoch 96/160\n",
      "6660/6680 [============================>.] - ETA: 0s - loss: 3.8760 - acc: 0.1251Epoch 00095: val_loss did not improve\n",
      "6680/6680 [==============================] - 23s - loss: 3.8765 - acc: 0.1249 - val_loss: 4.1673 - val_acc: 0.0910\n",
      "Epoch 97/160\n",
      "6660/6680 [============================>.] - ETA: 0s - loss: 3.8899 - acc: 0.1201Epoch 00096: val_loss did not improve\n",
      "6680/6680 [==============================] - 23s - loss: 3.8905 - acc: 0.1201 - val_loss: 4.1229 - val_acc: 0.0910\n",
      "Epoch 98/160\n",
      "6660/6680 [============================>.] - ETA: 0s - loss: 3.8807 - acc: 0.1227Epoch 00097: val_loss did not improve\n",
      "6680/6680 [==============================] - 23s - loss: 3.8812 - acc: 0.1229 - val_loss: 4.1432 - val_acc: 0.0850\n",
      "Epoch 99/160\n",
      "6660/6680 [============================>.] - ETA: 0s - loss: 3.8903 - acc: 0.1260Epoch 00098: val_loss did not improve\n",
      "6680/6680 [==============================] - 24s - loss: 3.8903 - acc: 0.1260 - val_loss: 4.0820 - val_acc: 0.0934\n",
      "Epoch 100/160\n",
      "6660/6680 [============================>.] - ETA: 0s - loss: 3.8701 - acc: 0.1242Epoch 00099: val_loss did not improve\n",
      "6680/6680 [==============================] - 23s - loss: 3.8692 - acc: 0.1243 - val_loss: 4.0855 - val_acc: 0.0898\n",
      "Epoch 101/160\n",
      "6660/6680 [============================>.] - ETA: 0s - loss: 3.8803 - acc: 0.1243Epoch 00100: val_loss did not improve\n",
      "6680/6680 [==============================] - 23s - loss: 3.8790 - acc: 0.1249 - val_loss: 4.1192 - val_acc: 0.0874\n",
      "Epoch 102/160\n",
      "6660/6680 [============================>.] - ETA: 0s - loss: 3.8549 - acc: 0.1257Epoch 00101: val_loss improved from 4.06367 to 3.99053, saving model to saved_models/weights.best.from_scratch.hdf5\n",
      "6680/6680 [==============================] - 23s - loss: 3.8534 - acc: 0.1259 - val_loss: 3.9905 - val_acc: 0.1042\n",
      "Epoch 103/160\n",
      "6660/6680 [============================>.] - ETA: 0s - loss: 3.8622 - acc: 0.1237Epoch 00102: val_loss did not improve\n",
      "6680/6680 [==============================] - 23s - loss: 3.8606 - acc: 0.1240 - val_loss: 4.0380 - val_acc: 0.1018\n",
      "Epoch 104/160\n",
      "6660/6680 [============================>.] - ETA: 0s - loss: 3.8467 - acc: 0.1342Epoch 00103: val_loss did not improve\n",
      "6680/6680 [==============================] - 23s - loss: 3.8464 - acc: 0.1338 - val_loss: 4.0707 - val_acc: 0.0982\n",
      "Epoch 105/160\n",
      "6660/6680 [============================>.] - ETA: 0s - loss: 3.8564 - acc: 0.1267Epoch 00104: val_loss did not improve\n",
      "6680/6680 [==============================] - 23s - loss: 3.8572 - acc: 0.1271 - val_loss: 4.0432 - val_acc: 0.0946\n",
      "Epoch 106/160\n",
      "6660/6680 [============================>.] - ETA: 0s - loss: 3.8399 - acc: 0.1342Epoch 00105: val_loss did not improve\n",
      "6680/6680 [==============================] - 23s - loss: 3.8408 - acc: 0.1341 - val_loss: 4.0356 - val_acc: 0.0862\n",
      "Epoch 107/160\n",
      "6660/6680 [============================>.] - ETA: 0s - loss: 3.8603 - acc: 0.1266Epoch 00106: val_loss did not improve\n",
      "6680/6680 [==============================] - 23s - loss: 3.8599 - acc: 0.1271 - val_loss: 4.0526 - val_acc: 0.0994\n",
      "Epoch 108/160\n",
      "6660/6680 [============================>.] - ETA: 0s - loss: 3.8439 - acc: 0.1323Epoch 00107: val_loss improved from 3.99053 to 3.98826, saving model to saved_models/weights.best.from_scratch.hdf5\n",
      "6680/6680 [==============================] - 23s - loss: 3.8437 - acc: 0.1322 - val_loss: 3.9883 - val_acc: 0.0982\n",
      "Epoch 109/160\n",
      "6660/6680 [============================>.] - ETA: 0s - loss: 3.8399 - acc: 0.1297Epoch 00108: val_loss did not improve\n",
      "6680/6680 [==============================] - 23s - loss: 3.8407 - acc: 0.1296 - val_loss: 4.0525 - val_acc: 0.1078\n",
      "Epoch 110/160\n",
      "6660/6680 [============================>.] - ETA: 0s - loss: 3.8489 - acc: 0.1362Epoch 00109: val_loss did not improve\n",
      "6680/6680 [==============================] - 23s - loss: 3.8483 - acc: 0.1365 - val_loss: 4.0687 - val_acc: 0.0922\n",
      "Epoch 111/160\n",
      "6660/6680 [============================>.] - ETA: 0s - loss: 3.8412 - acc: 0.1305Epoch 00110: val_loss did not improve\n",
      "6680/6680 [==============================] - 23s - loss: 3.8425 - acc: 0.1304 - val_loss: 4.1307 - val_acc: 0.0850\n",
      "Epoch 112/160\n",
      "6660/6680 [============================>.] - ETA: 0s - loss: 3.8112 - acc: 0.1335Epoch 00111: val_loss did not improve\n",
      "6680/6680 [==============================] - 23s - loss: 3.8121 - acc: 0.1337 - val_loss: 4.2299 - val_acc: 0.0766\n",
      "Epoch 113/160\n",
      "6660/6680 [============================>.] - ETA: 0s - loss: 3.8359 - acc: 0.1281Epoch 00112: val_loss did not improve\n",
      "6680/6680 [==============================] - 23s - loss: 3.8359 - acc: 0.1286 - val_loss: 4.1810 - val_acc: 0.0766\n",
      "Epoch 114/160\n",
      "6660/6680 [============================>.] - ETA: 0s - loss: 3.8318 - acc: 0.1323Epoch 00113: val_loss did not improve\n",
      "6680/6680 [==============================] - 23s - loss: 3.8324 - acc: 0.1320 - val_loss: 4.1359 - val_acc: 0.0850\n",
      "Epoch 115/160\n",
      "6660/6680 [============================>.] - ETA: 0s - loss: 3.8266 - acc: 0.1341Epoch 00114: val_loss did not improve\n",
      "6680/6680 [==============================] - 23s - loss: 3.8259 - acc: 0.1343 - val_loss: 4.1141 - val_acc: 0.0910\n",
      "Epoch 116/160\n",
      "6660/6680 [============================>.] - ETA: 0s - loss: 3.8189 - acc: 0.1299Epoch 00115: val_loss did not improve\n",
      "6680/6680 [==============================] - 23s - loss: 3.8185 - acc: 0.1299 - val_loss: 4.0364 - val_acc: 0.1114\n",
      "Epoch 117/160\n",
      "6660/6680 [============================>.] - ETA: 0s - loss: 3.8249 - acc: 0.1339Epoch 00116: val_loss did not improve\n",
      "6680/6680 [==============================] - 23s - loss: 3.8248 - acc: 0.1340 - val_loss: 4.0326 - val_acc: 0.1066\n",
      "Epoch 118/160\n",
      "6660/6680 [============================>.] - ETA: 0s - loss: 3.7993 - acc: 0.1342Epoch 00117: val_loss did not improve\n",
      "6680/6680 [==============================] - 23s - loss: 3.7978 - acc: 0.1344 - val_loss: 4.0714 - val_acc: 0.0910\n",
      "Epoch 119/160\n",
      "6660/6680 [============================>.] - ETA: 0s - loss: 3.8127 - acc: 0.1305Epoch 00118: val_loss did not improve\n",
      "6680/6680 [==============================] - 23s - loss: 3.8123 - acc: 0.1302 - val_loss: 4.1164 - val_acc: 0.0862\n",
      "Epoch 120/160\n",
      "6660/6680 [============================>.] - ETA: 0s - loss: 3.8130 - acc: 0.1320Epoch 00119: val_loss did not improve\n",
      "6680/6680 [==============================] - 23s - loss: 3.8126 - acc: 0.1319 - val_loss: 4.0394 - val_acc: 0.0826\n",
      "Epoch 121/160\n",
      "6660/6680 [============================>.] - ETA: 0s - loss: 3.7967 - acc: 0.1356Epoch 00120: val_loss did not improve\n",
      "6680/6680 [==============================] - 23s - loss: 3.7975 - acc: 0.1356 - val_loss: 4.0760 - val_acc: 0.0910\n",
      "Epoch 122/160\n",
      "6660/6680 [============================>.] - ETA: 0s - loss: 3.8212 - acc: 0.1314Epoch 00121: val_loss did not improve\n",
      "6680/6680 [==============================] - 23s - loss: 3.8224 - acc: 0.1314 - val_loss: 4.0219 - val_acc: 0.0946\n",
      "Epoch 123/160\n",
      "6660/6680 [============================>.] - ETA: 0s - loss: 3.8257 - acc: 0.1282Epoch 00122: val_loss did not improve\n",
      "6680/6680 [==============================] - 23s - loss: 3.8264 - acc: 0.1283 - val_loss: 4.0837 - val_acc: 0.0910\n",
      "Epoch 124/160\n",
      "6660/6680 [============================>.] - ETA: 0s - loss: 3.7981 - acc: 0.1302Epoch 00123: val_loss did not improve\n",
      "6680/6680 [==============================] - 23s - loss: 3.7983 - acc: 0.1302 - val_loss: 4.1016 - val_acc: 0.0898\n",
      "Epoch 125/160\n",
      "6660/6680 [============================>.] - ETA: 0s - loss: 3.7866 - acc: 0.1378Epoch 00124: val_loss did not improve\n",
      "6680/6680 [==============================] - 23s - loss: 3.7885 - acc: 0.1379 - val_loss: 4.0916 - val_acc: 0.0910\n",
      "Epoch 126/160\n",
      "6660/6680 [============================>.] - ETA: 0s - loss: 3.7829 - acc: 0.1395Epoch 00125: val_loss did not improve\n",
      "6680/6680 [==============================] - 23s - loss: 3.7816 - acc: 0.1397 - val_loss: 3.9995 - val_acc: 0.0874\n",
      "Epoch 127/160\n",
      "6660/6680 [============================>.] - ETA: 0s - loss: 3.7953 - acc: 0.1369Epoch 00126: val_loss did not improve\n",
      "6680/6680 [==============================] - 23s - loss: 3.7956 - acc: 0.1367 - val_loss: 4.0871 - val_acc: 0.0886\n",
      "Epoch 128/160\n",
      "6660/6680 [============================>.] - ETA: 0s - loss: 3.7959 - acc: 0.1353Epoch 00127: val_loss did not improve\n",
      "6680/6680 [==============================] - 23s - loss: 3.7959 - acc: 0.1352 - val_loss: 4.0580 - val_acc: 0.0970\n",
      "Epoch 129/160\n",
      "6660/6680 [============================>.] - ETA: 0s - loss: 3.7619 - acc: 0.1435Epoch 00128: val_loss did not improve\n",
      "6680/6680 [==============================] - 23s - loss: 3.7631 - acc: 0.1434 - val_loss: 4.1159 - val_acc: 0.0886\n",
      "Epoch 130/160\n",
      "6660/6680 [============================>.] - ETA: 0s - loss: 3.7910 - acc: 0.1336Epoch 00129: val_loss did not improve\n",
      "6680/6680 [==============================] - 23s - loss: 3.7931 - acc: 0.1335 - val_loss: 4.1807 - val_acc: 0.0790\n",
      "Epoch 131/160\n",
      "6660/6680 [============================>.] - ETA: 0s - loss: 3.7810 - acc: 0.1411Epoch 00130: val_loss did not improve\n",
      "6680/6680 [==============================] - 23s - loss: 3.7804 - acc: 0.1415 - val_loss: 3.9999 - val_acc: 0.0982\n",
      "Epoch 132/160\n",
      "6660/6680 [============================>.] - ETA: 0s - loss: 3.7812 - acc: 0.1407Epoch 00131: val_loss did not improve\n",
      "6680/6680 [==============================] - 23s - loss: 3.7801 - acc: 0.1410 - val_loss: 4.0161 - val_acc: 0.0970\n",
      "Epoch 133/160\n",
      "6660/6680 [============================>.] - ETA: 0s - loss: 3.7736 - acc: 0.1419Epoch 00132: val_loss did not improve\n",
      "6680/6680 [==============================] - 23s - loss: 3.7724 - acc: 0.1418 - val_loss: 3.9907 - val_acc: 0.0982\n",
      "Epoch 134/160\n",
      "6660/6680 [============================>.] - ETA: 0s - loss: 3.7634 - acc: 0.1417Epoch 00133: val_loss did not improve\n",
      "6680/6680 [==============================] - 23s - loss: 3.7622 - acc: 0.1415 - val_loss: 4.0490 - val_acc: 0.0958\n",
      "Epoch 135/160\n",
      "6660/6680 [============================>.] - ETA: 0s - loss: 3.7584 - acc: 0.1410Epoch 00134: val_loss did not improve\n",
      "6680/6680 [==============================] - 23s - loss: 3.7579 - acc: 0.1410 - val_loss: 4.0102 - val_acc: 0.0982\n",
      "Epoch 136/160\n",
      "6660/6680 [============================>.] - ETA: 0s - loss: 3.7714 - acc: 0.1389Epoch 00135: val_loss did not improve\n",
      "6680/6680 [==============================] - 23s - loss: 3.7710 - acc: 0.1388 - val_loss: 4.0451 - val_acc: 0.0862\n",
      "Epoch 137/160\n",
      "6660/6680 [============================>.] - ETA: 0s - loss: 3.7607 - acc: 0.1407Epoch 00136: val_loss did not improve\n",
      "6680/6680 [==============================] - 23s - loss: 3.7616 - acc: 0.1407 - val_loss: 4.1294 - val_acc: 0.0790\n",
      "Epoch 138/160\n",
      "6660/6680 [============================>.] - ETA: 0s - loss: 3.7759 - acc: 0.1390Epoch 00137: val_loss did not improve\n",
      "6680/6680 [==============================] - 23s - loss: 3.7751 - acc: 0.1389 - val_loss: 3.9937 - val_acc: 0.0958\n",
      "Epoch 139/160\n",
      "6660/6680 [============================>.] - ETA: 0s - loss: 3.7685 - acc: 0.1426Epoch 00138: val_loss did not improve\n",
      "6680/6680 [==============================] - 23s - loss: 3.7682 - acc: 0.1425 - val_loss: 4.0788 - val_acc: 0.0946\n",
      "Epoch 140/160\n",
      "6660/6680 [============================>.] - ETA: 0s - loss: 3.7805 - acc: 0.1389Epoch 00139: val_loss did not improve\n",
      "6680/6680 [==============================] - 23s - loss: 3.7802 - acc: 0.1391 - val_loss: 4.0404 - val_acc: 0.0910\n",
      "Epoch 141/160\n",
      "6660/6680 [============================>.] - ETA: 0s - loss: 3.7665 - acc: 0.1437Epoch 00140: val_loss did not improve\n",
      "6680/6680 [==============================] - 23s - loss: 3.7665 - acc: 0.1436 - val_loss: 4.1250 - val_acc: 0.0874\n",
      "Epoch 142/160\n",
      "6660/6680 [============================>.] - ETA: 0s - loss: 3.7730 - acc: 0.1375Epoch 00141: val_loss did not improve\n",
      "6680/6680 [==============================] - 23s - loss: 3.7743 - acc: 0.1376 - val_loss: 4.0584 - val_acc: 0.0946\n",
      "Epoch 143/160\n",
      "6660/6680 [============================>.] - ETA: 0s - loss: 3.7488 - acc: 0.1420Epoch 00142: val_loss did not improve\n",
      "6680/6680 [==============================] - 23s - loss: 3.7477 - acc: 0.1422 - val_loss: 3.9985 - val_acc: 0.0850\n",
      "Epoch 144/160\n",
      "6660/6680 [============================>.] - ETA: 0s - loss: 3.7554 - acc: 0.1449Epoch 00143: val_loss improved from 3.98826 to 3.95049, saving model to saved_models/weights.best.from_scratch.hdf5\n",
      "6680/6680 [==============================] - 23s - loss: 3.7554 - acc: 0.1451 - val_loss: 3.9505 - val_acc: 0.1078\n",
      "Epoch 145/160\n",
      "6660/6680 [============================>.] - ETA: 0s - loss: 3.7386 - acc: 0.1483Epoch 00144: val_loss did not improve\n",
      "6680/6680 [==============================] - 23s - loss: 3.7376 - acc: 0.1488 - val_loss: 4.0262 - val_acc: 0.0910\n",
      "Epoch 146/160\n",
      "6660/6680 [============================>.] - ETA: 0s - loss: 3.7472 - acc: 0.1455Epoch 00145: val_loss did not improve\n",
      "6680/6680 [==============================] - 23s - loss: 3.7474 - acc: 0.1455 - val_loss: 4.1788 - val_acc: 0.0695\n",
      "Epoch 147/160\n",
      "6660/6680 [============================>.] - ETA: 0s - loss: 3.7502 - acc: 0.1453Epoch 00146: val_loss did not improve\n",
      "6680/6680 [==============================] - 23s - loss: 3.7500 - acc: 0.1451 - val_loss: 4.1459 - val_acc: 0.0814\n",
      "Epoch 148/160\n",
      "6660/6680 [============================>.] - ETA: 0s - loss: 3.7490 - acc: 0.1450Epoch 00147: val_loss did not improve\n",
      "6680/6680 [==============================] - 23s - loss: 3.7489 - acc: 0.1452 - val_loss: 4.1170 - val_acc: 0.0790\n",
      "Epoch 149/160\n",
      "6660/6680 [============================>.] - ETA: 0s - loss: 3.7357 - acc: 0.1416Epoch 00148: val_loss did not improve\n",
      "6680/6680 [==============================] - 23s - loss: 3.7368 - acc: 0.1413 - val_loss: 4.1012 - val_acc: 0.0826\n",
      "Epoch 150/160\n"
     ]
    },
    {
     "name": "stdout",
     "output_type": "stream",
     "text": [
      "6660/6680 [============================>.] - ETA: 0s - loss: 3.7542 - acc: 0.1410Epoch 00149: val_loss did not improve\n",
      "6680/6680 [==============================] - 23s - loss: 3.7552 - acc: 0.1407 - val_loss: 4.0940 - val_acc: 0.0898\n",
      "Epoch 151/160\n",
      "6660/6680 [============================>.] - ETA: 0s - loss: 3.7607 - acc: 0.1351Epoch 00150: val_loss did not improve\n",
      "6680/6680 [==============================] - 23s - loss: 3.7594 - acc: 0.1353 - val_loss: 3.9753 - val_acc: 0.0826\n",
      "Epoch 152/160\n",
      "6660/6680 [============================>.] - ETA: 0s - loss: 3.7328 - acc: 0.1458Epoch 00151: val_loss did not improve\n",
      "6680/6680 [==============================] - 23s - loss: 3.7337 - acc: 0.1457 - val_loss: 4.1146 - val_acc: 0.0838\n",
      "Epoch 153/160\n",
      "6660/6680 [============================>.] - ETA: 0s - loss: 3.7482 - acc: 0.1414Epoch 00152: val_loss did not improve\n",
      "6680/6680 [==============================] - 23s - loss: 3.7486 - acc: 0.1418 - val_loss: 4.0524 - val_acc: 0.0910\n",
      "Epoch 154/160\n",
      "6660/6680 [============================>.] - ETA: 0s - loss: 3.7371 - acc: 0.1471Epoch 00153: val_loss did not improve\n",
      "6680/6680 [==============================] - 23s - loss: 3.7379 - acc: 0.1472 - val_loss: 4.2527 - val_acc: 0.0659\n",
      "Epoch 155/160\n",
      "6660/6680 [============================>.] - ETA: 0s - loss: 3.7472 - acc: 0.1387Epoch 00154: val_loss did not improve\n",
      "6680/6680 [==============================] - 23s - loss: 3.7493 - acc: 0.1383 - val_loss: 4.2089 - val_acc: 0.0707\n",
      "Epoch 156/160\n",
      "6660/6680 [============================>.] - ETA: 0s - loss: 3.7159 - acc: 0.1446Epoch 00155: val_loss did not improve\n",
      "6680/6680 [==============================] - 23s - loss: 3.7159 - acc: 0.1449 - val_loss: 4.1659 - val_acc: 0.0731\n",
      "Epoch 157/160\n",
      "6660/6680 [============================>.] - ETA: 0s - loss: 3.7200 - acc: 0.1428Epoch 00156: val_loss did not improve\n",
      "6680/6680 [==============================] - 23s - loss: 3.7182 - acc: 0.1433 - val_loss: 4.0037 - val_acc: 0.0922\n",
      "Epoch 158/160\n",
      "6660/6680 [============================>.] - ETA: 0s - loss: 3.7166 - acc: 0.1447Epoch 00157: val_loss did not improve\n",
      "6680/6680 [==============================] - 23s - loss: 3.7161 - acc: 0.1454 - val_loss: 4.1237 - val_acc: 0.0790\n",
      "Epoch 159/160\n",
      "6660/6680 [============================>.] - ETA: 0s - loss: 3.7111 - acc: 0.1446Epoch 00158: val_loss did not improve\n",
      "6680/6680 [==============================] - 23s - loss: 3.7104 - acc: 0.1448 - val_loss: 4.0264 - val_acc: 0.0874\n",
      "Epoch 160/160\n",
      "6660/6680 [============================>.] - ETA: 0s - loss: 3.7219 - acc: 0.1450Epoch 00159: val_loss did not improve\n",
      "6680/6680 [==============================] - 23s - loss: 3.7242 - acc: 0.1449 - val_loss: 4.1481 - val_acc: 0.0683\n"
     ]
    },
    {
     "data": {
      "text/plain": [
       "<keras.callbacks.History at 0x7ff68bb55278>"
      ]
     },
     "execution_count": 15,
     "metadata": {},
     "output_type": "execute_result"
    }
   ],
   "source": [
    "from keras.callbacks import ModelCheckpoint  \n",
    "\n",
    "### TODO: specify the number of epochs that you would like to use to train the model.\n",
    "\n",
    "epochs = 160\n",
    "\n",
    "### Do NOT modify the code below this line.\n",
    "\n",
    "checkpointer = ModelCheckpoint(filepath='saved_models/weights.best.from_scratch.hdf5', \n",
    "                               verbose=1, save_best_only=True)\n",
    "\n",
    "model.fit(train_tensors, train_targets, \n",
    "          validation_data=(valid_tensors, valid_targets),\n",
    "          epochs=epochs, batch_size=20, callbacks=[checkpointer], verbose=1)"
   ]
  },
  {
   "cell_type": "markdown",
   "metadata": {},
   "source": [
    "### Load the Model with the Best Validation Loss"
   ]
  },
  {
   "cell_type": "code",
   "execution_count": 15,
   "metadata": {},
   "outputs": [],
   "source": [
    "model.load_weights('saved_models/weights.best.from_scratch.hdf5')"
   ]
  },
  {
   "cell_type": "markdown",
   "metadata": {},
   "source": [
    "### Test the Model\n",
    "\n",
    "Try out your model on the test dataset of dog images.  Ensure that your test accuracy is greater than 1%."
   ]
  },
  {
   "cell_type": "code",
   "execution_count": 16,
   "metadata": {},
   "outputs": [
    {
     "name": "stdout",
     "output_type": "stream",
     "text": [
      "Test accuracy: 10.8852%\n"
     ]
    }
   ],
   "source": [
    "# get index of predicted dog breed for each image in test set\n",
    "dog_breed_predictions = [np.argmax(model.predict(np.expand_dims(tensor, axis=0))) for tensor in test_tensors]\n",
    "\n",
    "# report test accuracy\n",
    "test_accuracy = 100*np.sum(np.array(dog_breed_predictions)==np.argmax(test_targets, axis=1))/len(dog_breed_predictions)\n",
    "print('Test accuracy: %.4f%%' % test_accuracy)"
   ]
  },
  {
   "cell_type": "markdown",
   "metadata": {},
   "source": [
    "---\n",
    "<a id='step4'></a>\n",
    "## Step 4: Use a CNN to Classify Dog Breeds\n",
    "\n",
    "To reduce training time without sacrificing accuracy, we show you how to train a CNN using transfer learning.  In the following step, you will get a chance to use transfer learning to train your own CNN.\n",
    "\n",
    "### Obtain Bottleneck Features"
   ]
  },
  {
   "cell_type": "code",
   "execution_count": 36,
   "metadata": {},
   "outputs": [],
   "source": [
    "bottleneck_features = np.load('bottleneck_features/DogVGG16Data.npz')\n",
    "train_VGG16 = bottleneck_features['train']\n",
    "valid_VGG16 = bottleneck_features['valid']\n",
    "test_VGG16 = bottleneck_features['test']"
   ]
  },
  {
   "cell_type": "markdown",
   "metadata": {},
   "source": [
    "### Model Architecture\n",
    "\n",
    "The model uses the the pre-trained VGG-16 model as a fixed feature extractor, where the last convolutional output of VGG-16 is fed as input to our model.  We only add a global average pooling layer and a fully connected layer, where the latter contains one node for each dog category and is equipped with a softmax."
   ]
  },
  {
   "cell_type": "code",
   "execution_count": 37,
   "metadata": {},
   "outputs": [
    {
     "name": "stdout",
     "output_type": "stream",
     "text": [
      "_________________________________________________________________\n",
      "Layer (type)                 Output Shape              Param #   \n",
      "=================================================================\n",
      "global_average_pooling2d_5 ( (None, 512)               0         \n",
      "_________________________________________________________________\n",
      "dense_5 (Dense)              (None, 133)               68229     \n",
      "=================================================================\n",
      "Total params: 68,229.0\n",
      "Trainable params: 68,229.0\n",
      "Non-trainable params: 0.0\n",
      "_________________________________________________________________\n"
     ]
    }
   ],
   "source": [
    "VGG16_model = Sequential()\n",
    "VGG16_model.add(GlobalAveragePooling2D(input_shape=train_VGG16.shape[1:]))\n",
    "VGG16_model.add(Dense(num_classes, activation='softmax'))\n",
    "\n",
    "VGG16_model.summary()"
   ]
  },
  {
   "cell_type": "markdown",
   "metadata": {},
   "source": [
    "### Compile the Model"
   ]
  },
  {
   "cell_type": "code",
   "execution_count": 38,
   "metadata": {},
   "outputs": [],
   "source": [
    "VGG16_model.compile(loss='categorical_crossentropy', optimizer='rmsprop', metrics=['accuracy'])"
   ]
  },
  {
   "cell_type": "markdown",
   "metadata": {},
   "source": [
    "### Train the Model"
   ]
  },
  {
   "cell_type": "code",
   "execution_count": 39,
   "metadata": {},
   "outputs": [
    {
     "name": "stdout",
     "output_type": "stream",
     "text": [
      "Train on 6680 samples, validate on 835 samples\n",
      "Epoch 1/20\n",
      "6640/6680 [============================>.] - ETA: 0s - loss: 13.1905 - acc: 0.0913Epoch 00000: val_loss improved from inf to 11.98248, saving model to saved_models/weights.best.VGG16.hdf5\n",
      "6680/6680 [==============================] - 1s - loss: 13.1826 - acc: 0.0916 - val_loss: 11.9825 - val_acc: 0.1605\n",
      "Epoch 2/20\n",
      "6540/6680 [============================>.] - ETA: 0s - loss: 11.3952 - acc: 0.2167Epoch 00001: val_loss improved from 11.98248 to 11.16173, saving model to saved_models/weights.best.VGG16.hdf5\n",
      "6680/6680 [==============================] - 1s - loss: 11.3760 - acc: 0.2181 - val_loss: 11.1617 - val_acc: 0.2311\n",
      "Epoch 3/20\n",
      "6520/6680 [============================>.] - ETA: 0s - loss: 10.5443 - acc: 0.2814Epoch 00002: val_loss improved from 11.16173 to 10.49490, saving model to saved_models/weights.best.VGG16.hdf5\n",
      "6680/6680 [==============================] - 1s - loss: 10.5249 - acc: 0.2832 - val_loss: 10.4949 - val_acc: 0.2611\n",
      "Epoch 4/20\n",
      "6540/6680 [============================>.] - ETA: 0s - loss: 10.0085 - acc: 0.3269Epoch 00003: val_loss improved from 10.49490 to 10.09935, saving model to saved_models/weights.best.VGG16.hdf5\n",
      "6680/6680 [==============================] - 1s - loss: 10.0162 - acc: 0.3262 - val_loss: 10.0993 - val_acc: 0.2946\n",
      "Epoch 5/20\n",
      "6560/6680 [============================>.] - ETA: 0s - loss: 9.7583 - acc: 0.3526Epoch 00004: val_loss improved from 10.09935 to 9.95560, saving model to saved_models/weights.best.VGG16.hdf5\n",
      "6680/6680 [==============================] - 1s - loss: 9.7626 - acc: 0.3524 - val_loss: 9.9556 - val_acc: 0.3174\n",
      "Epoch 6/20\n",
      "6580/6680 [============================>.] - ETA: 0s - loss: 9.5729 - acc: 0.3690Epoch 00005: val_loss improved from 9.95560 to 9.85761, saving model to saved_models/weights.best.VGG16.hdf5\n",
      "6680/6680 [==============================] - 1s - loss: 9.5416 - acc: 0.3708 - val_loss: 9.8576 - val_acc: 0.3246\n",
      "Epoch 7/20\n",
      "6560/6680 [============================>.] - ETA: 0s - loss: 9.3619 - acc: 0.3892Epoch 00006: val_loss improved from 9.85761 to 9.83529, saving model to saved_models/weights.best.VGG16.hdf5\n",
      "6680/6680 [==============================] - 1s - loss: 9.3723 - acc: 0.3883 - val_loss: 9.8353 - val_acc: 0.3305\n",
      "Epoch 8/20\n",
      "6600/6680 [============================>.] - ETA: 0s - loss: 9.3093 - acc: 0.4005Epoch 00007: val_loss improved from 9.83529 to 9.74466, saving model to saved_models/weights.best.VGG16.hdf5\n",
      "6680/6680 [==============================] - 1s - loss: 9.2994 - acc: 0.4012 - val_loss: 9.7447 - val_acc: 0.3281\n",
      "Epoch 9/20\n",
      "6600/6680 [============================>.] - ETA: 0s - loss: 9.1512 - acc: 0.4133Epoch 00008: val_loss improved from 9.74466 to 9.59303, saving model to saved_models/weights.best.VGG16.hdf5\n",
      "6680/6680 [==============================] - 1s - loss: 9.1562 - acc: 0.4132 - val_loss: 9.5930 - val_acc: 0.3485\n",
      "Epoch 10/20\n",
      "6620/6680 [============================>.] - ETA: 0s - loss: 9.0535 - acc: 0.4228Epoch 00009: val_loss improved from 9.59303 to 9.54446, saving model to saved_models/weights.best.VGG16.hdf5\n",
      "6680/6680 [==============================] - 1s - loss: 9.0545 - acc: 0.4228 - val_loss: 9.5445 - val_acc: 0.3521\n",
      "Epoch 11/20\n",
      "6520/6680 [============================>.] - ETA: 0s - loss: 8.9330 - acc: 0.4330Epoch 00010: val_loss improved from 9.54446 to 9.33983, saving model to saved_models/weights.best.VGG16.hdf5\n",
      "6680/6680 [==============================] - 1s - loss: 8.9221 - acc: 0.4338 - val_loss: 9.3398 - val_acc: 0.3653\n",
      "Epoch 12/20\n",
      "6540/6680 [============================>.] - ETA: 0s - loss: 8.8833 - acc: 0.4390Epoch 00011: val_loss did not improve\n",
      "6680/6680 [==============================] - 1s - loss: 8.8789 - acc: 0.4394 - val_loss: 9.4069 - val_acc: 0.3545\n",
      "Epoch 13/20\n",
      "6620/6680 [============================>.] - ETA: 0s - loss: 8.8501 - acc: 0.4400Epoch 00012: val_loss did not improve\n",
      "6680/6680 [==============================] - 1s - loss: 8.8455 - acc: 0.4404 - val_loss: 9.4029 - val_acc: 0.3593\n",
      "Epoch 14/20\n",
      "6480/6680 [============================>.] - ETA: 0s - loss: 8.7296 - acc: 0.4465Epoch 00013: val_loss improved from 9.33983 to 9.22654, saving model to saved_models/weights.best.VGG16.hdf5\n",
      "6680/6680 [==============================] - 1s - loss: 8.7186 - acc: 0.4470 - val_loss: 9.2265 - val_acc: 0.3760\n",
      "Epoch 15/20\n",
      "6500/6680 [============================>.] - ETA: 0s - loss: 8.6647 - acc: 0.4563Epoch 00014: val_loss did not improve\n",
      "6680/6680 [==============================] - 1s - loss: 8.6804 - acc: 0.4554 - val_loss: 9.2601 - val_acc: 0.3593\n",
      "Epoch 16/20\n",
      "6520/6680 [============================>.] - ETA: 0s - loss: 8.6690 - acc: 0.4580Epoch 00015: val_loss did not improve\n",
      "6680/6680 [==============================] - 1s - loss: 8.6698 - acc: 0.4579 - val_loss: 9.3230 - val_acc: 0.3737\n",
      "Epoch 17/20\n",
      "6440/6680 [===========================>..] - ETA: 0s - loss: 8.6076 - acc: 0.4598Epoch 00016: val_loss improved from 9.22654 to 9.14968, saving model to saved_models/weights.best.VGG16.hdf5\n",
      "6680/6680 [==============================] - 1s - loss: 8.6221 - acc: 0.4585 - val_loss: 9.1497 - val_acc: 0.3796\n",
      "Epoch 18/20\n",
      "6580/6680 [============================>.] - ETA: 0s - loss: 8.5058 - acc: 0.4644Epoch 00017: val_loss improved from 9.14968 to 9.09967, saving model to saved_models/weights.best.VGG16.hdf5\n",
      "6680/6680 [==============================] - 1s - loss: 8.5041 - acc: 0.4644 - val_loss: 9.0997 - val_acc: 0.3832\n",
      "Epoch 19/20\n",
      "6560/6680 [============================>.] - ETA: 0s - loss: 8.4075 - acc: 0.4652Epoch 00018: val_loss improved from 9.09967 to 8.94258, saving model to saved_models/weights.best.VGG16.hdf5\n",
      "6680/6680 [==============================] - 1s - loss: 8.3734 - acc: 0.4674 - val_loss: 8.9426 - val_acc: 0.3892\n",
      "Epoch 20/20\n",
      "6480/6680 [============================>.] - ETA: 0s - loss: 8.2450 - acc: 0.4775Epoch 00019: val_loss improved from 8.94258 to 8.89297, saving model to saved_models/weights.best.VGG16.hdf5\n",
      "6680/6680 [==============================] - 1s - loss: 8.2524 - acc: 0.4768 - val_loss: 8.8930 - val_acc: 0.3844\n"
     ]
    },
    {
     "data": {
      "text/plain": [
       "<keras.callbacks.History at 0x7fda79e32ef0>"
      ]
     },
     "execution_count": 39,
     "metadata": {},
     "output_type": "execute_result"
    }
   ],
   "source": [
    "checkpointer = ModelCheckpoint(filepath='saved_models/weights.best.VGG16.hdf5', \n",
    "                               verbose=1, save_best_only=True)\n",
    "\n",
    "VGG16_model.fit(train_VGG16, train_targets, \n",
    "          validation_data=(valid_VGG16, valid_targets),\n",
    "          epochs=20, batch_size=20, callbacks=[checkpointer], verbose=1)"
   ]
  },
  {
   "cell_type": "markdown",
   "metadata": {},
   "source": [
    "### Load the Model with the Best Validation Loss"
   ]
  },
  {
   "cell_type": "code",
   "execution_count": 40,
   "metadata": {},
   "outputs": [],
   "source": [
    "VGG16_model.load_weights('saved_models/weights.best.VGG16.hdf5')"
   ]
  },
  {
   "cell_type": "markdown",
   "metadata": {},
   "source": [
    "### Test the Model\n",
    "\n",
    "Now, we can use the CNN to test how well it identifies breed within our test dataset of dog images.  We print the test accuracy below."
   ]
  },
  {
   "cell_type": "code",
   "execution_count": 41,
   "metadata": {},
   "outputs": [
    {
     "name": "stdout",
     "output_type": "stream",
     "text": [
      "Test accuracy: 39.3541%\n"
     ]
    }
   ],
   "source": [
    "# get index of predicted dog breed for each image in test set\n",
    "VGG16_predictions = [np.argmax(VGG16_model.predict(np.expand_dims(feature, axis=0))) for feature in test_VGG16]\n",
    "\n",
    "# report test accuracy\n",
    "test_accuracy = 100*np.sum(np.array(VGG16_predictions)==np.argmax(test_targets, axis=1))/len(VGG16_predictions)\n",
    "print('Test accuracy: %.4f%%' % test_accuracy)"
   ]
  },
  {
   "cell_type": "markdown",
   "metadata": {},
   "source": [
    "### Predict Dog Breed with the Model"
   ]
  },
  {
   "cell_type": "code",
   "execution_count": 42,
   "metadata": {},
   "outputs": [],
   "source": [
    "from extract_bottleneck_features import *\n",
    "\n",
    "def VGG16_predict_breed(img_path):\n",
    "    # extract bottleneck features\n",
    "    bottleneck_feature = extract_VGG16(path_to_tensor(img_path))\n",
    "    # obtain predicted vector\n",
    "    predicted_vector = VGG16_model.predict(bottleneck_feature)\n",
    "    # return dog breed that is predicted by the model\n",
    "    return dog_names[np.argmax(predicted_vector)]"
   ]
  },
  {
   "cell_type": "markdown",
   "metadata": {},
   "source": [
    "---\n",
    "<a id='step5'></a>\n",
    "## Step 5: Create a CNN to Classify Dog Breeds (using Transfer Learning)\n",
    "\n",
    "You will now use transfer learning to create a CNN that can identify dog breed from images.  Your CNN must attain at least 60% accuracy on the test set.\n",
    "\n",
    "In Step 4, we used transfer learning to create a CNN using VGG-16 bottleneck features.  In this section, you must use the bottleneck features from a different pre-trained model.  To make things easier for you, we have pre-computed the features for all of the networks that are currently available in Keras:\n",
    "- [VGG-19](https://s3-us-west-1.amazonaws.com/udacity-aind/dog-project/DogVGG19Data.npz) bottleneck features\n",
    "- [ResNet-50](https://s3-us-west-1.amazonaws.com/udacity-aind/dog-project/DogResnet50Data.npz) bottleneck features\n",
    "- [Inception](https://s3-us-west-1.amazonaws.com/udacity-aind/dog-project/DogInceptionV3Data.npz) bottleneck features\n",
    "- [Xception](https://s3-us-west-1.amazonaws.com/udacity-aind/dog-project/DogXceptionData.npz) bottleneck features\n",
    "\n",
    "The files are encoded as such:\n",
    "\n",
    "    Dog{network}Data.npz\n",
    "    \n",
    "where `{network}`, in the above filename, can be one of `VGG19`, `Resnet50`, `InceptionV3`, or `Xception`.  Pick one of the above architectures, download the corresponding bottleneck features, and store the downloaded file in the `bottleneck_features/` folder in the repository.\n",
    "\n",
    "### (IMPLEMENTATION) Obtain Bottleneck Features\n",
    "\n",
    "In the code block below, extract the bottleneck features corresponding to the train, test, and validation sets by running the following:\n",
    "\n",
    "    bottleneck_features = np.load('bottleneck_features/Dog{network}Data.npz')\n",
    "    train_{network} = bottleneck_features['train']\n",
    "    valid_{network} = bottleneck_features['valid']\n",
    "    test_{network} = bottleneck_features['test']"
   ]
  },
  {
   "cell_type": "code",
   "execution_count": null,
   "metadata": {
    "collapsed": true
   },
   "outputs": [],
   "source": [
    "### TODO: Obtain bottleneck features from another pre-trained CNN."
   ]
  },
  {
   "cell_type": "markdown",
   "metadata": {},
   "source": [
    "### (IMPLEMENTATION) Model Architecture\n",
    "\n",
    "Create a CNN to classify dog breed.  At the end of your code cell block, summarize the layers of your model by executing the line:\n",
    "    \n",
    "        <your model's name>.summary()\n",
    "   \n",
    "__Question 5:__ Outline the steps you took to get to your final CNN architecture and your reasoning at each step.  Describe why you think the architecture is suitable for the current problem.\n",
    "\n",
    "__Answer:__ \n",
    "\n"
   ]
  },
  {
   "cell_type": "code",
   "execution_count": null,
   "metadata": {
    "collapsed": true
   },
   "outputs": [],
   "source": [
    "### TODO: Define your architecture."
   ]
  },
  {
   "cell_type": "markdown",
   "metadata": {},
   "source": [
    "### (IMPLEMENTATION) Compile the Model"
   ]
  },
  {
   "cell_type": "code",
   "execution_count": null,
   "metadata": {
    "collapsed": true
   },
   "outputs": [],
   "source": [
    "### TODO: Compile the model."
   ]
  },
  {
   "cell_type": "markdown",
   "metadata": {},
   "source": [
    "### (IMPLEMENTATION) Train the Model\n",
    "\n",
    "Train your model in the code cell below.  Use model checkpointing to save the model that attains the best validation loss.  \n",
    "\n",
    "You are welcome to [augment the training data](https://blog.keras.io/building-powerful-image-classification-models-using-very-little-data.html), but this is not a requirement. "
   ]
  },
  {
   "cell_type": "code",
   "execution_count": null,
   "metadata": {
    "collapsed": true
   },
   "outputs": [],
   "source": [
    "### TODO: Train the model."
   ]
  },
  {
   "cell_type": "markdown",
   "metadata": {},
   "source": [
    "### (IMPLEMENTATION) Load the Model with the Best Validation Loss"
   ]
  },
  {
   "cell_type": "code",
   "execution_count": null,
   "metadata": {
    "collapsed": true
   },
   "outputs": [],
   "source": [
    "### TODO: Load the model weights with the best validation loss."
   ]
  },
  {
   "cell_type": "markdown",
   "metadata": {},
   "source": [
    "### (IMPLEMENTATION) Test the Model\n",
    "\n",
    "Try out your model on the test dataset of dog images. Ensure that your test accuracy is greater than 60%."
   ]
  },
  {
   "cell_type": "code",
   "execution_count": null,
   "metadata": {
    "collapsed": true
   },
   "outputs": [],
   "source": [
    "### TODO: Calculate classification accuracy on the test dataset."
   ]
  },
  {
   "cell_type": "markdown",
   "metadata": {},
   "source": [
    "### (IMPLEMENTATION) Predict Dog Breed with the Model\n",
    "\n",
    "Write a function that takes an image path as input and returns the dog breed (`Affenpinscher`, `Afghan_hound`, etc) that is predicted by your model.  \n",
    "\n",
    "Similar to the analogous function in Step 5, your function should have three steps:\n",
    "1. Extract the bottleneck features corresponding to the chosen CNN model.\n",
    "2. Supply the bottleneck features as input to the model to return the predicted vector.  Note that the argmax of this prediction vector gives the index of the predicted dog breed.\n",
    "3. Use the `dog_names` array defined in Step 0 of this notebook to return the corresponding breed.\n",
    "\n",
    "The functions to extract the bottleneck features can be found in `extract_bottleneck_features.py`, and they have been imported in an earlier code cell.  To obtain the bottleneck features corresponding to your chosen CNN architecture, you need to use the function\n",
    "\n",
    "    extract_{network}\n",
    "    \n",
    "where `{network}`, in the above filename, should be one of `VGG19`, `Resnet50`, `InceptionV3`, or `Xception`."
   ]
  },
  {
   "cell_type": "code",
   "execution_count": null,
   "metadata": {
    "collapsed": true
   },
   "outputs": [],
   "source": [
    "### TODO: Write a function that takes a path to an image as input\n",
    "### and returns the dog breed that is predicted by the model."
   ]
  },
  {
   "cell_type": "markdown",
   "metadata": {},
   "source": [
    "---\n",
    "<a id='step6'></a>\n",
    "## Step 6: Write your Algorithm\n",
    "\n",
    "Write an algorithm that accepts a file path to an image and first determines whether the image contains a human, dog, or neither.  Then,\n",
    "- if a __dog__ is detected in the image, return the predicted breed.\n",
    "- if a __human__ is detected in the image, return the resembling dog breed.\n",
    "- if __neither__ is detected in the image, provide output that indicates an error.\n",
    "\n",
    "You are welcome to write your own functions for detecting humans and dogs in images, but feel free to use the `face_detector` and `dog_detector` functions developed above.  You are __required__ to use your CNN from Step 5 to predict dog breed.  \n",
    "\n",
    "Some sample output for our algorithm is provided below, but feel free to design your own user experience!\n",
    "\n",
    "![Sample Human Output](images/sample_human_output.png)\n",
    "\n",
    "\n",
    "### (IMPLEMENTATION) Write your Algorithm"
   ]
  },
  {
   "cell_type": "code",
   "execution_count": null,
   "metadata": {
    "collapsed": true
   },
   "outputs": [],
   "source": [
    "### TODO: Write your algorithm.\n",
    "### Feel free to use as many code cells as needed."
   ]
  },
  {
   "cell_type": "markdown",
   "metadata": {},
   "source": [
    "---\n",
    "<a id='step7'></a>\n",
    "## Step 7: Test Your Algorithm\n",
    "\n",
    "In this section, you will take your new algorithm for a spin!  What kind of dog does the algorithm think that __you__ look like?  If you have a dog, does it predict your dog's breed accurately?  If you have a cat, does it mistakenly think that your cat is a dog?\n",
    "\n",
    "### (IMPLEMENTATION) Test Your Algorithm on Sample Images!\n",
    "\n",
    "Test your algorithm at least six images on your computer.  Feel free to use any images you like.  Use at least two human and two dog images.  \n",
    "\n",
    "__Question 6:__ Is the output better than you expected :) ?  Or worse :( ?  Provide at least three possible points of improvement for your algorithm.\n",
    "\n",
    "__Answer:__ "
   ]
  },
  {
   "cell_type": "code",
   "execution_count": null,
   "metadata": {
    "collapsed": true
   },
   "outputs": [],
   "source": [
    "## TODO: Execute your algorithm from Step 6 on\n",
    "## at least 6 images on your computer.\n",
    "## Feel free to use as many code cells as needed."
   ]
  }
 ],
 "metadata": {
  "anaconda-cloud": {},
  "kernelspec": {
   "display_name": "Python 3",
   "language": "python",
   "name": "python3"
  },
  "language_info": {
   "codemirror_mode": {
    "name": "ipython",
    "version": 3
   },
   "file_extension": ".py",
   "mimetype": "text/x-python",
   "name": "python",
   "nbconvert_exporter": "python",
   "pygments_lexer": "ipython3",
   "version": "3.5.2"
  }
 },
 "nbformat": 4,
 "nbformat_minor": 1
}
